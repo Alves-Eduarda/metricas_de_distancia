{
  "cells": [
    {
      "cell_type": "markdown",
      "metadata": {
        "id": "tzN-ARJNMRvz"
      },
      "source": [
        "## Atividade Extra\n",
        "\n",
        "Aluna: Maria Eduarda Alves da Silva"
      ]
    },
    {
      "cell_type": "markdown",
      "metadata": {
        "id": "vkbcqjRt2R_m"
      },
      "source": [
        "# Importando as bibliotecas"
      ]
    },
    {
      "cell_type": "code",
      "execution_count": 1,
      "metadata": {
        "id": "1bRtNlRxpxjc"
      },
      "outputs": [],
      "source": [
        "# importando as bibliotecas\n",
        "import pandas as pd\n",
        "import numpy as np\n",
        "\n",
        "# visualização\n",
        "import seaborn as sns\n",
        "import matplotlib.pyplot as plt\n",
        "import plotly.express as px\n",
        "import plotly.graph_objects as go\n",
        "\n",
        "# distância\n",
        "from scipy.spatial import distance\n",
        "\n",
        "from scipy.cluster.hierarchy import dendrogram, linkage, single, average, fcluster"
      ]
    },
    {
      "cell_type": "code",
      "execution_count": 2,
      "metadata": {
        "id": "IjeP8r9Ip1Ry"
      },
      "outputs": [],
      "source": [
        "# lendo o dataframe\n",
        "df_jogadores = pd.read_csv('https://raw.githubusercontent.com/devjaynemorais/modelos_descritivos_curso/main/Aula%2001/dados/players_match.csv')"
      ]
    },
    {
      "cell_type": "code",
      "execution_count": 3,
      "metadata": {
        "colab": {
          "base_uri": "https://localhost:8080/",
          "height": 206
        },
        "id": "mEzpUSjXqOwJ",
        "outputId": "5cfaf16f-6c4d-4c40-dd35-823ee35c95eb"
      },
      "outputs": [
        {
          "data": {
            "text/html": [
              "<div>\n",
              "<style scoped>\n",
              "    .dataframe tbody tr th:only-of-type {\n",
              "        vertical-align: middle;\n",
              "    }\n",
              "\n",
              "    .dataframe tbody tr th {\n",
              "        vertical-align: top;\n",
              "    }\n",
              "\n",
              "    .dataframe thead th {\n",
              "        text-align: right;\n",
              "    }\n",
              "</style>\n",
              "<table border=\"1\" class=\"dataframe\">\n",
              "  <thead>\n",
              "    <tr style=\"text-align: right;\">\n",
              "      <th></th>\n",
              "      <th>Unnamed: 0</th>\n",
              "      <th>Player_Position_X</th>\n",
              "      <th>Player_Position_Y</th>\n",
              "      <th>Center_Side_A_X</th>\n",
              "      <th>Center_Side_A_Y</th>\n",
              "      <th>Center_Side_B_X</th>\n",
              "      <th>Center_Side_B_Y</th>\n",
              "    </tr>\n",
              "  </thead>\n",
              "  <tbody>\n",
              "    <tr>\n",
              "      <th>0</th>\n",
              "      <td>0</td>\n",
              "      <td>8.107316</td>\n",
              "      <td>13.362118</td>\n",
              "      <td>25.0</td>\n",
              "      <td>50.0</td>\n",
              "      <td>75</td>\n",
              "      <td>50</td>\n",
              "    </tr>\n",
              "    <tr>\n",
              "      <th>1</th>\n",
              "      <td>1</td>\n",
              "      <td>48.687401</td>\n",
              "      <td>80.312717</td>\n",
              "      <td>25.0</td>\n",
              "      <td>50.0</td>\n",
              "      <td>75</td>\n",
              "      <td>50</td>\n",
              "    </tr>\n",
              "    <tr>\n",
              "      <th>2</th>\n",
              "      <td>2</td>\n",
              "      <td>31.740322</td>\n",
              "      <td>64.865129</td>\n",
              "      <td>25.0</td>\n",
              "      <td>NaN</td>\n",
              "      <td>75</td>\n",
              "      <td>50</td>\n",
              "    </tr>\n",
              "    <tr>\n",
              "      <th>3</th>\n",
              "      <td>3</td>\n",
              "      <td>13.652919</td>\n",
              "      <td>81.462626</td>\n",
              "      <td>25.0</td>\n",
              "      <td>50.0</td>\n",
              "      <td>75</td>\n",
              "      <td>50</td>\n",
              "    </tr>\n",
              "    <tr>\n",
              "      <th>4</th>\n",
              "      <td>4</td>\n",
              "      <td>19.134233</td>\n",
              "      <td>28.985857</td>\n",
              "      <td>25.0</td>\n",
              "      <td>50.0</td>\n",
              "      <td>75</td>\n",
              "      <td>50</td>\n",
              "    </tr>\n",
              "  </tbody>\n",
              "</table>\n",
              "</div>"
            ],
            "text/plain": [
              "   Unnamed: 0  Player_Position_X  Player_Position_Y  Center_Side_A_X  \\\n",
              "0           0           8.107316          13.362118             25.0   \n",
              "1           1          48.687401          80.312717             25.0   \n",
              "2           2          31.740322          64.865129             25.0   \n",
              "3           3          13.652919          81.462626             25.0   \n",
              "4           4          19.134233          28.985857             25.0   \n",
              "\n",
              "   Center_Side_A_Y  Center_Side_B_X  Center_Side_B_Y  \n",
              "0             50.0               75               50  \n",
              "1             50.0               75               50  \n",
              "2              NaN               75               50  \n",
              "3             50.0               75               50  \n",
              "4             50.0               75               50  "
            ]
          },
          "execution_count": 3,
          "metadata": {},
          "output_type": "execute_result"
        }
      ],
      "source": [
        "df_jogadores.head()"
      ]
    },
    {
      "cell_type": "markdown",
      "metadata": {
        "id": "fC-0bOUKqV3_"
      },
      "source": [
        "# Análise exploratória dos dados"
      ]
    },
    {
      "cell_type": "code",
      "execution_count": 4,
      "metadata": {
        "colab": {
          "base_uri": "https://localhost:8080/"
        },
        "id": "G3-J3d8VqQGT",
        "outputId": "22e89c22-b0e1-49b1-acdc-fd5222a1f609"
      },
      "outputs": [
        {
          "name": "stdout",
          "output_type": "stream",
          "text": [
            "<class 'pandas.core.frame.DataFrame'>\n",
            "RangeIndex: 27 entries, 0 to 26\n",
            "Data columns (total 7 columns):\n",
            " #   Column             Non-Null Count  Dtype  \n",
            "---  ------             --------------  -----  \n",
            " 0   Unnamed: 0         27 non-null     int64  \n",
            " 1   Player_Position_X  22 non-null     float64\n",
            " 2   Player_Position_Y  22 non-null     float64\n",
            " 3   Center_Side_A_X    25 non-null     float64\n",
            " 4   Center_Side_A_Y    24 non-null     float64\n",
            " 5   Center_Side_B_X    27 non-null     int64  \n",
            " 6   Center_Side_B_Y    27 non-null     int64  \n",
            "dtypes: float64(4), int64(3)\n",
            "memory usage: 1.6 KB\n"
          ]
        }
      ],
      "source": [
        "df_jogadores.info()"
      ]
    },
    {
      "cell_type": "markdown",
      "metadata": {
        "id": "1JzORrxtq_AF"
      },
      "source": [
        "Observações:\n",
        "\n",
        "1 - A tabela contém 27 linhas\n",
        "\n",
        "2 - as colunas de Player_Position_X e Y e Center_Side_A_X e A_Y apresentam valores nulos\n",
        "\n",
        "Informação complementar:\n",
        "\n",
        "O futebol necessita de 11 jogadores em campo, para cada lado, totalizando 22."
      ]
    },
    {
      "cell_type": "code",
      "execution_count": 5,
      "metadata": {
        "colab": {
          "base_uri": "https://localhost:8080/",
          "height": 301
        },
        "id": "fsEsa19R3IlA",
        "outputId": "55f6268d-4a50-4cef-ac8b-b2a56c27566e"
      },
      "outputs": [
        {
          "data": {
            "text/html": [
              "<div>\n",
              "<style scoped>\n",
              "    .dataframe tbody tr th:only-of-type {\n",
              "        vertical-align: middle;\n",
              "    }\n",
              "\n",
              "    .dataframe tbody tr th {\n",
              "        vertical-align: top;\n",
              "    }\n",
              "\n",
              "    .dataframe thead th {\n",
              "        text-align: right;\n",
              "    }\n",
              "</style>\n",
              "<table border=\"1\" class=\"dataframe\">\n",
              "  <thead>\n",
              "    <tr style=\"text-align: right;\">\n",
              "      <th></th>\n",
              "      <th>Unnamed: 0</th>\n",
              "      <th>Player_Position_X</th>\n",
              "      <th>Player_Position_Y</th>\n",
              "      <th>Center_Side_A_X</th>\n",
              "      <th>Center_Side_A_Y</th>\n",
              "      <th>Center_Side_B_X</th>\n",
              "      <th>Center_Side_B_Y</th>\n",
              "    </tr>\n",
              "  </thead>\n",
              "  <tbody>\n",
              "    <tr>\n",
              "      <th>count</th>\n",
              "      <td>27.000000</td>\n",
              "      <td>22.000000</td>\n",
              "      <td>22.000000</td>\n",
              "      <td>25.0</td>\n",
              "      <td>24.0</td>\n",
              "      <td>27.0</td>\n",
              "      <td>27.0</td>\n",
              "    </tr>\n",
              "    <tr>\n",
              "      <th>mean</th>\n",
              "      <td>8.703704</td>\n",
              "      <td>46.857088</td>\n",
              "      <td>59.683830</td>\n",
              "      <td>25.0</td>\n",
              "      <td>50.0</td>\n",
              "      <td>75.0</td>\n",
              "      <td>50.0</td>\n",
              "    </tr>\n",
              "    <tr>\n",
              "      <th>std</th>\n",
              "      <td>6.993485</td>\n",
              "      <td>30.210089</td>\n",
              "      <td>29.957657</td>\n",
              "      <td>0.0</td>\n",
              "      <td>0.0</td>\n",
              "      <td>0.0</td>\n",
              "      <td>0.0</td>\n",
              "    </tr>\n",
              "    <tr>\n",
              "      <th>min</th>\n",
              "      <td>0.000000</td>\n",
              "      <td>0.634923</td>\n",
              "      <td>2.736767</td>\n",
              "      <td>25.0</td>\n",
              "      <td>50.0</td>\n",
              "      <td>75.0</td>\n",
              "      <td>50.0</td>\n",
              "    </tr>\n",
              "    <tr>\n",
              "      <th>25%</th>\n",
              "      <td>2.000000</td>\n",
              "      <td>17.177874</td>\n",
              "      <td>34.161050</td>\n",
              "      <td>25.0</td>\n",
              "      <td>50.0</td>\n",
              "      <td>75.0</td>\n",
              "      <td>50.0</td>\n",
              "    </tr>\n",
              "    <tr>\n",
              "      <th>50%</th>\n",
              "      <td>8.000000</td>\n",
              "      <td>52.408227</td>\n",
              "      <td>65.598034</td>\n",
              "      <td>25.0</td>\n",
              "      <td>50.0</td>\n",
              "      <td>75.0</td>\n",
              "      <td>50.0</td>\n",
              "    </tr>\n",
              "    <tr>\n",
              "      <th>75%</th>\n",
              "      <td>14.500000</td>\n",
              "      <td>74.111067</td>\n",
              "      <td>81.175149</td>\n",
              "      <td>25.0</td>\n",
              "      <td>50.0</td>\n",
              "      <td>75.0</td>\n",
              "      <td>50.0</td>\n",
              "    </tr>\n",
              "    <tr>\n",
              "      <th>max</th>\n",
              "      <td>21.000000</td>\n",
              "      <td>96.355293</td>\n",
              "      <td>97.194354</td>\n",
              "      <td>25.0</td>\n",
              "      <td>50.0</td>\n",
              "      <td>75.0</td>\n",
              "      <td>50.0</td>\n",
              "    </tr>\n",
              "  </tbody>\n",
              "</table>\n",
              "</div>"
            ],
            "text/plain": [
              "       Unnamed: 0  Player_Position_X  Player_Position_Y  Center_Side_A_X  \\\n",
              "count   27.000000          22.000000          22.000000             25.0   \n",
              "mean     8.703704          46.857088          59.683830             25.0   \n",
              "std      6.993485          30.210089          29.957657              0.0   \n",
              "min      0.000000           0.634923           2.736767             25.0   \n",
              "25%      2.000000          17.177874          34.161050             25.0   \n",
              "50%      8.000000          52.408227          65.598034             25.0   \n",
              "75%     14.500000          74.111067          81.175149             25.0   \n",
              "max     21.000000          96.355293          97.194354             25.0   \n",
              "\n",
              "       Center_Side_A_Y  Center_Side_B_X  Center_Side_B_Y  \n",
              "count             24.0             27.0             27.0  \n",
              "mean              50.0             75.0             50.0  \n",
              "std                0.0              0.0              0.0  \n",
              "min               50.0             75.0             50.0  \n",
              "25%               50.0             75.0             50.0  \n",
              "50%               50.0             75.0             50.0  \n",
              "75%               50.0             75.0             50.0  \n",
              "max               50.0             75.0             50.0  "
            ]
          },
          "execution_count": 5,
          "metadata": {},
          "output_type": "execute_result"
        }
      ],
      "source": [
        "df_jogadores.describe()"
      ]
    },
    {
      "cell_type": "markdown",
      "metadata": {
        "id": "O2rvaenS3L18"
      },
      "source": [
        "observações:\n",
        "\n",
        "1 - A coluna Unnamed: 0 pode ser interpretada como uma \"label\" referente ao posicionamento dos jogadores em campo\n",
        "\n",
        "2 - A escala entre os valores do posicionamento e o centro de cada lado não é tão discrepante pois estão variando entre 0 a 97 ( posicionamento dos jogadores ) e 50 e 75 ( centro de cada lado )"
      ]
    },
    {
      "cell_type": "markdown",
      "metadata": {
        "id": "9w682ef8sz4c"
      },
      "source": [
        "## valores nulos"
      ]
    },
    {
      "cell_type": "code",
      "execution_count": 6,
      "metadata": {
        "colab": {
          "base_uri": "https://localhost:8080/",
          "height": 304
        },
        "id": "D0uVWF-eqirp",
        "outputId": "a496e503-7950-4bac-d493-2935a100793a"
      },
      "outputs": [
        {
          "data": {
            "text/plain": [
              "Unnamed: 0           0\n",
              "Player_Position_X    5\n",
              "Player_Position_Y    5\n",
              "Center_Side_A_X      2\n",
              "Center_Side_A_Y      3\n",
              "Center_Side_B_X      0\n",
              "Center_Side_B_Y      0\n",
              "dtype: int64"
            ]
          },
          "execution_count": 6,
          "metadata": {},
          "output_type": "execute_result"
        }
      ],
      "source": [
        "df_jogadores.isnull().sum()"
      ]
    },
    {
      "cell_type": "code",
      "execution_count": 7,
      "metadata": {
        "colab": {
          "base_uri": "https://localhost:8080/",
          "height": 206
        },
        "id": "Tt7FkgzdqqCQ",
        "outputId": "53ea2eab-3aaf-4dc7-c2fe-73bfea03adae"
      },
      "outputs": [
        {
          "data": {
            "text/html": [
              "<div>\n",
              "<style scoped>\n",
              "    .dataframe tbody tr th:only-of-type {\n",
              "        vertical-align: middle;\n",
              "    }\n",
              "\n",
              "    .dataframe tbody tr th {\n",
              "        vertical-align: top;\n",
              "    }\n",
              "\n",
              "    .dataframe thead th {\n",
              "        text-align: right;\n",
              "    }\n",
              "</style>\n",
              "<table border=\"1\" class=\"dataframe\">\n",
              "  <thead>\n",
              "    <tr style=\"text-align: right;\">\n",
              "      <th></th>\n",
              "      <th>Unnamed: 0</th>\n",
              "      <th>Player_Position_X</th>\n",
              "      <th>Player_Position_Y</th>\n",
              "      <th>Center_Side_A_X</th>\n",
              "      <th>Center_Side_A_Y</th>\n",
              "      <th>Center_Side_B_X</th>\n",
              "      <th>Center_Side_B_Y</th>\n",
              "    </tr>\n",
              "  </thead>\n",
              "  <tbody>\n",
              "    <tr>\n",
              "      <th>11</th>\n",
              "      <td>0</td>\n",
              "      <td>NaN</td>\n",
              "      <td>NaN</td>\n",
              "      <td>25.0</td>\n",
              "      <td>50.0</td>\n",
              "      <td>75</td>\n",
              "      <td>50</td>\n",
              "    </tr>\n",
              "    <tr>\n",
              "      <th>12</th>\n",
              "      <td>1</td>\n",
              "      <td>NaN</td>\n",
              "      <td>NaN</td>\n",
              "      <td>25.0</td>\n",
              "      <td>50.0</td>\n",
              "      <td>75</td>\n",
              "      <td>50</td>\n",
              "    </tr>\n",
              "    <tr>\n",
              "      <th>24</th>\n",
              "      <td>0</td>\n",
              "      <td>NaN</td>\n",
              "      <td>NaN</td>\n",
              "      <td>25.0</td>\n",
              "      <td>50.0</td>\n",
              "      <td>75</td>\n",
              "      <td>50</td>\n",
              "    </tr>\n",
              "    <tr>\n",
              "      <th>25</th>\n",
              "      <td>1</td>\n",
              "      <td>NaN</td>\n",
              "      <td>NaN</td>\n",
              "      <td>25.0</td>\n",
              "      <td>50.0</td>\n",
              "      <td>75</td>\n",
              "      <td>50</td>\n",
              "    </tr>\n",
              "    <tr>\n",
              "      <th>26</th>\n",
              "      <td>2</td>\n",
              "      <td>NaN</td>\n",
              "      <td>NaN</td>\n",
              "      <td>25.0</td>\n",
              "      <td>NaN</td>\n",
              "      <td>75</td>\n",
              "      <td>50</td>\n",
              "    </tr>\n",
              "  </tbody>\n",
              "</table>\n",
              "</div>"
            ],
            "text/plain": [
              "    Unnamed: 0  Player_Position_X  Player_Position_Y  Center_Side_A_X  \\\n",
              "11           0                NaN                NaN             25.0   \n",
              "12           1                NaN                NaN             25.0   \n",
              "24           0                NaN                NaN             25.0   \n",
              "25           1                NaN                NaN             25.0   \n",
              "26           2                NaN                NaN             25.0   \n",
              "\n",
              "    Center_Side_A_Y  Center_Side_B_X  Center_Side_B_Y  \n",
              "11             50.0               75               50  \n",
              "12             50.0               75               50  \n",
              "24             50.0               75               50  \n",
              "25             50.0               75               50  \n",
              "26              NaN               75               50  "
            ]
          },
          "execution_count": 7,
          "metadata": {},
          "output_type": "execute_result"
        }
      ],
      "source": [
        "df_jogadores[df_jogadores['Player_Position_X'].isnull()]"
      ]
    },
    {
      "cell_type": "markdown",
      "metadata": {
        "id": "plX6S294sPyB"
      },
      "source": [
        "Observação:\n",
        "\n",
        "1 - É possível verificar que para a coluna de Unnamed: 0 temos o mesmo valor se repetindo.\n",
        "\n",
        "2 - Existem linhas sem posicionamento dos jogadores, logo serão retiradas do dataframe"
      ]
    },
    {
      "cell_type": "code",
      "execution_count": 8,
      "metadata": {
        "id": "mUJS04yp00sT"
      },
      "outputs": [],
      "source": [
        "# retirando os valores sem posicionamento\n",
        "df_jogadores.dropna(subset=['Player_Position_X', 'Player_Position_Y'],inplace=True)"
      ]
    },
    {
      "cell_type": "markdown",
      "metadata": {
        "id": "RllBArulstgU"
      },
      "source": [
        "## valores duplicados"
      ]
    },
    {
      "cell_type": "code",
      "execution_count": 9,
      "metadata": {
        "colab": {
          "base_uri": "https://localhost:8080/"
        },
        "id": "YCX4oPStsJH1",
        "outputId": "75f6ef7a-d55a-42bd-fed4-a6568a2fd666"
      },
      "outputs": [
        {
          "data": {
            "text/plain": [
              "np.int64(0)"
            ]
          },
          "execution_count": 9,
          "metadata": {},
          "output_type": "execute_result"
        }
      ],
      "source": [
        "df_jogadores.duplicated().sum()"
      ]
    },
    {
      "cell_type": "markdown",
      "metadata": {
        "id": "Rfq9RTmXG5ea"
      },
      "source": [
        "não há valores duplicados"
      ]
    },
    {
      "cell_type": "code",
      "execution_count": 10,
      "metadata": {
        "colab": {
          "base_uri": "https://localhost:8080/",
          "height": 739
        },
        "id": "B-RrvGOKtADJ",
        "outputId": "027028f4-9ee0-4142-e426-c32684303ee2"
      },
      "outputs": [
        {
          "data": {
            "text/html": [
              "<div>\n",
              "<style scoped>\n",
              "    .dataframe tbody tr th:only-of-type {\n",
              "        vertical-align: middle;\n",
              "    }\n",
              "\n",
              "    .dataframe tbody tr th {\n",
              "        vertical-align: top;\n",
              "    }\n",
              "\n",
              "    .dataframe thead th {\n",
              "        text-align: right;\n",
              "    }\n",
              "</style>\n",
              "<table border=\"1\" class=\"dataframe\">\n",
              "  <thead>\n",
              "    <tr style=\"text-align: right;\">\n",
              "      <th></th>\n",
              "      <th>Unnamed: 0</th>\n",
              "      <th>Player_Position_X</th>\n",
              "      <th>Player_Position_Y</th>\n",
              "      <th>Center_Side_A_X</th>\n",
              "      <th>Center_Side_A_Y</th>\n",
              "      <th>Center_Side_B_X</th>\n",
              "      <th>Center_Side_B_Y</th>\n",
              "    </tr>\n",
              "  </thead>\n",
              "  <tbody>\n",
              "    <tr>\n",
              "      <th>0</th>\n",
              "      <td>0</td>\n",
              "      <td>8.107316</td>\n",
              "      <td>13.362118</td>\n",
              "      <td>25.0</td>\n",
              "      <td>50.0</td>\n",
              "      <td>75</td>\n",
              "      <td>50</td>\n",
              "    </tr>\n",
              "    <tr>\n",
              "      <th>1</th>\n",
              "      <td>1</td>\n",
              "      <td>48.687401</td>\n",
              "      <td>80.312717</td>\n",
              "      <td>25.0</td>\n",
              "      <td>50.0</td>\n",
              "      <td>75</td>\n",
              "      <td>50</td>\n",
              "    </tr>\n",
              "    <tr>\n",
              "      <th>2</th>\n",
              "      <td>2</td>\n",
              "      <td>31.740322</td>\n",
              "      <td>64.865129</td>\n",
              "      <td>25.0</td>\n",
              "      <td>NaN</td>\n",
              "      <td>75</td>\n",
              "      <td>50</td>\n",
              "    </tr>\n",
              "    <tr>\n",
              "      <th>3</th>\n",
              "      <td>3</td>\n",
              "      <td>13.652919</td>\n",
              "      <td>81.462626</td>\n",
              "      <td>25.0</td>\n",
              "      <td>50.0</td>\n",
              "      <td>75</td>\n",
              "      <td>50</td>\n",
              "    </tr>\n",
              "    <tr>\n",
              "      <th>4</th>\n",
              "      <td>4</td>\n",
              "      <td>19.134233</td>\n",
              "      <td>28.985857</td>\n",
              "      <td>25.0</td>\n",
              "      <td>50.0</td>\n",
              "      <td>75</td>\n",
              "      <td>50</td>\n",
              "    </tr>\n",
              "    <tr>\n",
              "      <th>5</th>\n",
              "      <td>5</td>\n",
              "      <td>16.793206</td>\n",
              "      <td>97.194354</td>\n",
              "      <td>NaN</td>\n",
              "      <td>50.0</td>\n",
              "      <td>75</td>\n",
              "      <td>50</td>\n",
              "    </tr>\n",
              "    <tr>\n",
              "      <th>6</th>\n",
              "      <td>6</td>\n",
              "      <td>18.269684</td>\n",
              "      <td>56.269861</td>\n",
              "      <td>25.0</td>\n",
              "      <td>50.0</td>\n",
              "      <td>75</td>\n",
              "      <td>50</td>\n",
              "    </tr>\n",
              "    <tr>\n",
              "      <th>7</th>\n",
              "      <td>7</td>\n",
              "      <td>14.532925</td>\n",
              "      <td>18.316240</td>\n",
              "      <td>25.0</td>\n",
              "      <td>50.0</td>\n",
              "      <td>75</td>\n",
              "      <td>50</td>\n",
              "    </tr>\n",
              "    <tr>\n",
              "      <th>8</th>\n",
              "      <td>8</td>\n",
              "      <td>16.813938</td>\n",
              "      <td>78.656237</td>\n",
              "      <td>25.0</td>\n",
              "      <td>50.0</td>\n",
              "      <td>75</td>\n",
              "      <td>50</td>\n",
              "    </tr>\n",
              "    <tr>\n",
              "      <th>9</th>\n",
              "      <td>9</td>\n",
              "      <td>37.347460</td>\n",
              "      <td>2.736767</td>\n",
              "      <td>25.0</td>\n",
              "      <td>50.0</td>\n",
              "      <td>75</td>\n",
              "      <td>50</td>\n",
              "    </tr>\n",
              "    <tr>\n",
              "      <th>10</th>\n",
              "      <td>10</td>\n",
              "      <td>0.634923</td>\n",
              "      <td>91.699048</td>\n",
              "      <td>25.0</td>\n",
              "      <td>50.0</td>\n",
              "      <td>75</td>\n",
              "      <td>50</td>\n",
              "    </tr>\n",
              "    <tr>\n",
              "      <th>13</th>\n",
              "      <td>11</td>\n",
              "      <td>56.697288</td>\n",
              "      <td>82.195142</td>\n",
              "      <td>25.0</td>\n",
              "      <td>50.0</td>\n",
              "      <td>75</td>\n",
              "      <td>50</td>\n",
              "    </tr>\n",
              "    <tr>\n",
              "      <th>14</th>\n",
              "      <td>12</td>\n",
              "      <td>80.261121</td>\n",
              "      <td>88.820712</td>\n",
              "      <td>25.0</td>\n",
              "      <td>50.0</td>\n",
              "      <td>75</td>\n",
              "      <td>50</td>\n",
              "    </tr>\n",
              "    <tr>\n",
              "      <th>15</th>\n",
              "      <td>13</td>\n",
              "      <td>80.387794</td>\n",
              "      <td>79.756665</td>\n",
              "      <td>25.0</td>\n",
              "      <td>50.0</td>\n",
              "      <td>75</td>\n",
              "      <td>50</td>\n",
              "    </tr>\n",
              "    <tr>\n",
              "      <th>16</th>\n",
              "      <td>14</td>\n",
              "      <td>64.142228</td>\n",
              "      <td>77.855247</td>\n",
              "      <td>NaN</td>\n",
              "      <td>50.0</td>\n",
              "      <td>75</td>\n",
              "      <td>50</td>\n",
              "    </tr>\n",
              "    <tr>\n",
              "      <th>17</th>\n",
              "      <td>15</td>\n",
              "      <td>62.416316</td>\n",
              "      <td>64.896008</td>\n",
              "      <td>25.0</td>\n",
              "      <td>50.0</td>\n",
              "      <td>75</td>\n",
              "      <td>50</td>\n",
              "    </tr>\n",
              "    <tr>\n",
              "      <th>18</th>\n",
              "      <td>16</td>\n",
              "      <td>56.129054</td>\n",
              "      <td>66.300059</td>\n",
              "      <td>25.0</td>\n",
              "      <td>NaN</td>\n",
              "      <td>75</td>\n",
              "      <td>50</td>\n",
              "    </tr>\n",
              "    <tr>\n",
              "      <th>19</th>\n",
              "      <td>17</td>\n",
              "      <td>91.593909</td>\n",
              "      <td>29.390002</td>\n",
              "      <td>25.0</td>\n",
              "      <td>50.0</td>\n",
              "      <td>75</td>\n",
              "      <td>50</td>\n",
              "    </tr>\n",
              "    <tr>\n",
              "      <th>20</th>\n",
              "      <td>18</td>\n",
              "      <td>58.525899</td>\n",
              "      <td>9.402191</td>\n",
              "      <td>25.0</td>\n",
              "      <td>50.0</td>\n",
              "      <td>75</td>\n",
              "      <td>50</td>\n",
              "    </tr>\n",
              "    <tr>\n",
              "      <th>21</th>\n",
              "      <td>19</td>\n",
              "      <td>81.198696</td>\n",
              "      <td>96.135967</td>\n",
              "      <td>25.0</td>\n",
              "      <td>50.0</td>\n",
              "      <td>75</td>\n",
              "      <td>50</td>\n",
              "    </tr>\n",
              "    <tr>\n",
              "      <th>22</th>\n",
              "      <td>20</td>\n",
              "      <td>77.434014</td>\n",
              "      <td>48.474194</td>\n",
              "      <td>25.0</td>\n",
              "      <td>50.0</td>\n",
              "      <td>75</td>\n",
              "      <td>50</td>\n",
              "    </tr>\n",
              "    <tr>\n",
              "      <th>23</th>\n",
              "      <td>21</td>\n",
              "      <td>96.355293</td>\n",
              "      <td>55.957116</td>\n",
              "      <td>25.0</td>\n",
              "      <td>50.0</td>\n",
              "      <td>75</td>\n",
              "      <td>50</td>\n",
              "    </tr>\n",
              "  </tbody>\n",
              "</table>\n",
              "</div>"
            ],
            "text/plain": [
              "    Unnamed: 0  Player_Position_X  Player_Position_Y  Center_Side_A_X  \\\n",
              "0            0           8.107316          13.362118             25.0   \n",
              "1            1          48.687401          80.312717             25.0   \n",
              "2            2          31.740322          64.865129             25.0   \n",
              "3            3          13.652919          81.462626             25.0   \n",
              "4            4          19.134233          28.985857             25.0   \n",
              "5            5          16.793206          97.194354              NaN   \n",
              "6            6          18.269684          56.269861             25.0   \n",
              "7            7          14.532925          18.316240             25.0   \n",
              "8            8          16.813938          78.656237             25.0   \n",
              "9            9          37.347460           2.736767             25.0   \n",
              "10          10           0.634923          91.699048             25.0   \n",
              "13          11          56.697288          82.195142             25.0   \n",
              "14          12          80.261121          88.820712             25.0   \n",
              "15          13          80.387794          79.756665             25.0   \n",
              "16          14          64.142228          77.855247              NaN   \n",
              "17          15          62.416316          64.896008             25.0   \n",
              "18          16          56.129054          66.300059             25.0   \n",
              "19          17          91.593909          29.390002             25.0   \n",
              "20          18          58.525899           9.402191             25.0   \n",
              "21          19          81.198696          96.135967             25.0   \n",
              "22          20          77.434014          48.474194             25.0   \n",
              "23          21          96.355293          55.957116             25.0   \n",
              "\n",
              "    Center_Side_A_Y  Center_Side_B_X  Center_Side_B_Y  \n",
              "0              50.0               75               50  \n",
              "1              50.0               75               50  \n",
              "2               NaN               75               50  \n",
              "3              50.0               75               50  \n",
              "4              50.0               75               50  \n",
              "5              50.0               75               50  \n",
              "6              50.0               75               50  \n",
              "7              50.0               75               50  \n",
              "8              50.0               75               50  \n",
              "9              50.0               75               50  \n",
              "10             50.0               75               50  \n",
              "13             50.0               75               50  \n",
              "14             50.0               75               50  \n",
              "15             50.0               75               50  \n",
              "16             50.0               75               50  \n",
              "17             50.0               75               50  \n",
              "18              NaN               75               50  \n",
              "19             50.0               75               50  \n",
              "20             50.0               75               50  \n",
              "21             50.0               75               50  \n",
              "22             50.0               75               50  \n",
              "23             50.0               75               50  "
            ]
          },
          "execution_count": 10,
          "metadata": {},
          "output_type": "execute_result"
        }
      ],
      "source": [
        "df_jogadores"
      ]
    },
    {
      "cell_type": "markdown",
      "metadata": {
        "id": "78DDHigCxQro"
      },
      "source": [
        "# visualização da posição dos jogadores em campo"
      ]
    },
    {
      "cell_type": "code",
      "execution_count": 11,
      "metadata": {
        "colab": {
          "base_uri": "https://localhost:8080/",
          "height": 542
        },
        "id": "5Qp8JOScxnpn",
        "outputId": "697d46bf-141c-4912-fd45-0450fddf239a"
      },
      "outputs": [
        {
          "data": {
            "application/vnd.plotly.v1+json": {
              "config": {
                "plotlyServerURL": "https://plot.ly"
              },
              "data": [
                {
                  "marker": {
                    "color": "blue"
                  },
                  "mode": "markers+text",
                  "name": "Posição dos Jogadores",
                  "text": [
                    "Player 1",
                    "Player 2",
                    "Player 3",
                    "Player 4",
                    "Player 5",
                    "Player 6",
                    "Player 7",
                    "Player 8",
                    "Player 9",
                    "Player 10",
                    "Player 11",
                    "Player 12",
                    "Player 13",
                    "Player 14",
                    "Player 15",
                    "Player 16",
                    "Player 17",
                    "Player 18",
                    "Player 19",
                    "Player 20",
                    "Player 21",
                    "Player 22"
                  ],
                  "textposition": "top center",
                  "type": "scatter",
                  "x": {
                    "bdata": "rjNeJfI2IEAJRcK+/FdIQBPTyLWFvT9AYl1LWEtOK0CeqiIYXSIzQG5+rpAPyzBAU7mjAwpFMkD/pPqJ2xAtQEm4nTxe0DBAG8pkkXmsQkDU4as1SVHkP5D/qLhAWUxAT1siNbYQVEB3KCKd0RhUQFO/p0MaCVBAddPk00k1T0DhS1bYhBBMQLZUF5wC5lZAL1O2rFBDTUCJFgFvt0xUQCpAS+HGW1NA2nuAIL0WWEA=",
                    "dtype": "f8"
                  },
                  "y": {
                    "bdata": "/NgXgWe5KkAwrAiPAxRUQE6yl0deN1BAo/L/qJtdVEC4XZMZYfw8QJswpU1wTFhAYeYu0IoiTEAoiwQe9VAyQLjyC8r/qVNAps2CWubkBUBdPN8xvexWQP9SCzN9jFRA1UrRioY0VkBTJfUzbfBTQC1jd1y8dlNAtN8+M1g5UEAdE8IsNJNQQJ7mBzHXYz1Aunc29+vNIkBrq8+uswhYQJZWH2OyPEhAlRdjyoL6S0A=",
                    "dtype": "f8"
                  }
                },
                {
                  "marker": {
                    "color": "red"
                  },
                  "mode": "markers+text",
                  "name": "Centro A",
                  "text": [
                    "Centro A"
                  ],
                  "textposition": "top center",
                  "type": "scatter",
                  "x": {
                    "bdata": "AAAAAAAAOUAAAAAAAAA5QAAAAAAAADlAAAAAAAAAOUAAAAAAAAA5QAAAAAAAAPh/AAAAAAAAOUAAAAAAAAA5QAAAAAAAADlAAAAAAAAAOUAAAAAAAAA5QAAAAAAAADlAAAAAAAAAOUAAAAAAAAA5QAAAAAAAAPh/AAAAAAAAOUAAAAAAAAA5QAAAAAAAADlAAAAAAAAAOUAAAAAAAAA5QAAAAAAAADlAAAAAAAAAOUA=",
                    "dtype": "f8"
                  },
                  "y": {
                    "bdata": "AAAAAAAASUAAAAAAAABJQAAAAAAAAPh/AAAAAAAASUAAAAAAAABJQAAAAAAAAElAAAAAAAAASUAAAAAAAABJQAAAAAAAAElAAAAAAAAASUAAAAAAAABJQAAAAAAAAElAAAAAAAAASUAAAAAAAABJQAAAAAAAAElAAAAAAAAASUAAAAAAAAD4fwAAAAAAAElAAAAAAAAASUAAAAAAAABJQAAAAAAAAElAAAAAAAAASUA=",
                    "dtype": "f8"
                  }
                },
                {
                  "marker": {
                    "color": "green"
                  },
                  "mode": "markers+text",
                  "name": "Centro B",
                  "text": [
                    "Centro B"
                  ],
                  "textposition": "top center",
                  "type": "scatter",
                  "x": {
                    "bdata": "S0tLS0tLS0tLS0tLS0tLS0tLS0tLSw==",
                    "dtype": "i1"
                  },
                  "y": {
                    "bdata": "MjIyMjIyMjIyMjIyMjIyMjIyMjIyMg==",
                    "dtype": "i1"
                  }
                },
                {
                  "marker": {
                    "color": "black"
                  },
                  "mode": "markers+text",
                  "name": "Meio do Campo",
                  "text": [
                    "Meio do Campo"
                  ],
                  "textposition": "top center",
                  "type": "scatter",
                  "x": {
                    "bdata": "Mg==",
                    "dtype": "i1"
                  },
                  "y": {
                    "bdata": "Mg==",
                    "dtype": "i1"
                  }
                }
              ],
              "layout": {
                "paper_bgcolor": "rgba(0, 0, 0, 0)",
                "plot_bgcolor": "rgba(0, 0, 0, 0)",
                "shapes": [
                  {
                    "line": {
                      "color": "red",
                      "dash": "dash"
                    },
                    "type": "line",
                    "x0": 25,
                    "x1": 25,
                    "y0": 0,
                    "y1": 97.19435444957564
                  },
                  {
                    "line": {
                      "color": "green",
                      "dash": "dash"
                    },
                    "type": "line",
                    "x0": 75,
                    "x1": 75,
                    "y0": 0,
                    "y1": 97.19435444957564
                  },
                  {
                    "line": {
                      "color": "black",
                      "dash": "dash"
                    },
                    "type": "line",
                    "x0": 50,
                    "x1": 50,
                    "y0": 0,
                    "y1": 100
                  }
                ],
                "template": {
                  "data": {
                    "bar": [
                      {
                        "error_x": {
                          "color": "#2a3f5f"
                        },
                        "error_y": {
                          "color": "#2a3f5f"
                        },
                        "marker": {
                          "line": {
                            "color": "#E5ECF6",
                            "width": 0.5
                          },
                          "pattern": {
                            "fillmode": "overlay",
                            "size": 10,
                            "solidity": 0.2
                          }
                        },
                        "type": "bar"
                      }
                    ],
                    "barpolar": [
                      {
                        "marker": {
                          "line": {
                            "color": "#E5ECF6",
                            "width": 0.5
                          },
                          "pattern": {
                            "fillmode": "overlay",
                            "size": 10,
                            "solidity": 0.2
                          }
                        },
                        "type": "barpolar"
                      }
                    ],
                    "carpet": [
                      {
                        "aaxis": {
                          "endlinecolor": "#2a3f5f",
                          "gridcolor": "white",
                          "linecolor": "white",
                          "minorgridcolor": "white",
                          "startlinecolor": "#2a3f5f"
                        },
                        "baxis": {
                          "endlinecolor": "#2a3f5f",
                          "gridcolor": "white",
                          "linecolor": "white",
                          "minorgridcolor": "white",
                          "startlinecolor": "#2a3f5f"
                        },
                        "type": "carpet"
                      }
                    ],
                    "choropleth": [
                      {
                        "colorbar": {
                          "outlinewidth": 0,
                          "ticks": ""
                        },
                        "type": "choropleth"
                      }
                    ],
                    "contour": [
                      {
                        "colorbar": {
                          "outlinewidth": 0,
                          "ticks": ""
                        },
                        "colorscale": [
                          [
                            0,
                            "#0d0887"
                          ],
                          [
                            0.1111111111111111,
                            "#46039f"
                          ],
                          [
                            0.2222222222222222,
                            "#7201a8"
                          ],
                          [
                            0.3333333333333333,
                            "#9c179e"
                          ],
                          [
                            0.4444444444444444,
                            "#bd3786"
                          ],
                          [
                            0.5555555555555556,
                            "#d8576b"
                          ],
                          [
                            0.6666666666666666,
                            "#ed7953"
                          ],
                          [
                            0.7777777777777778,
                            "#fb9f3a"
                          ],
                          [
                            0.8888888888888888,
                            "#fdca26"
                          ],
                          [
                            1,
                            "#f0f921"
                          ]
                        ],
                        "type": "contour"
                      }
                    ],
                    "contourcarpet": [
                      {
                        "colorbar": {
                          "outlinewidth": 0,
                          "ticks": ""
                        },
                        "type": "contourcarpet"
                      }
                    ],
                    "heatmap": [
                      {
                        "colorbar": {
                          "outlinewidth": 0,
                          "ticks": ""
                        },
                        "colorscale": [
                          [
                            0,
                            "#0d0887"
                          ],
                          [
                            0.1111111111111111,
                            "#46039f"
                          ],
                          [
                            0.2222222222222222,
                            "#7201a8"
                          ],
                          [
                            0.3333333333333333,
                            "#9c179e"
                          ],
                          [
                            0.4444444444444444,
                            "#bd3786"
                          ],
                          [
                            0.5555555555555556,
                            "#d8576b"
                          ],
                          [
                            0.6666666666666666,
                            "#ed7953"
                          ],
                          [
                            0.7777777777777778,
                            "#fb9f3a"
                          ],
                          [
                            0.8888888888888888,
                            "#fdca26"
                          ],
                          [
                            1,
                            "#f0f921"
                          ]
                        ],
                        "type": "heatmap"
                      }
                    ],
                    "histogram": [
                      {
                        "marker": {
                          "pattern": {
                            "fillmode": "overlay",
                            "size": 10,
                            "solidity": 0.2
                          }
                        },
                        "type": "histogram"
                      }
                    ],
                    "histogram2d": [
                      {
                        "colorbar": {
                          "outlinewidth": 0,
                          "ticks": ""
                        },
                        "colorscale": [
                          [
                            0,
                            "#0d0887"
                          ],
                          [
                            0.1111111111111111,
                            "#46039f"
                          ],
                          [
                            0.2222222222222222,
                            "#7201a8"
                          ],
                          [
                            0.3333333333333333,
                            "#9c179e"
                          ],
                          [
                            0.4444444444444444,
                            "#bd3786"
                          ],
                          [
                            0.5555555555555556,
                            "#d8576b"
                          ],
                          [
                            0.6666666666666666,
                            "#ed7953"
                          ],
                          [
                            0.7777777777777778,
                            "#fb9f3a"
                          ],
                          [
                            0.8888888888888888,
                            "#fdca26"
                          ],
                          [
                            1,
                            "#f0f921"
                          ]
                        ],
                        "type": "histogram2d"
                      }
                    ],
                    "histogram2dcontour": [
                      {
                        "colorbar": {
                          "outlinewidth": 0,
                          "ticks": ""
                        },
                        "colorscale": [
                          [
                            0,
                            "#0d0887"
                          ],
                          [
                            0.1111111111111111,
                            "#46039f"
                          ],
                          [
                            0.2222222222222222,
                            "#7201a8"
                          ],
                          [
                            0.3333333333333333,
                            "#9c179e"
                          ],
                          [
                            0.4444444444444444,
                            "#bd3786"
                          ],
                          [
                            0.5555555555555556,
                            "#d8576b"
                          ],
                          [
                            0.6666666666666666,
                            "#ed7953"
                          ],
                          [
                            0.7777777777777778,
                            "#fb9f3a"
                          ],
                          [
                            0.8888888888888888,
                            "#fdca26"
                          ],
                          [
                            1,
                            "#f0f921"
                          ]
                        ],
                        "type": "histogram2dcontour"
                      }
                    ],
                    "mesh3d": [
                      {
                        "colorbar": {
                          "outlinewidth": 0,
                          "ticks": ""
                        },
                        "type": "mesh3d"
                      }
                    ],
                    "parcoords": [
                      {
                        "line": {
                          "colorbar": {
                            "outlinewidth": 0,
                            "ticks": ""
                          }
                        },
                        "type": "parcoords"
                      }
                    ],
                    "pie": [
                      {
                        "automargin": true,
                        "type": "pie"
                      }
                    ],
                    "scatter": [
                      {
                        "fillpattern": {
                          "fillmode": "overlay",
                          "size": 10,
                          "solidity": 0.2
                        },
                        "type": "scatter"
                      }
                    ],
                    "scatter3d": [
                      {
                        "line": {
                          "colorbar": {
                            "outlinewidth": 0,
                            "ticks": ""
                          }
                        },
                        "marker": {
                          "colorbar": {
                            "outlinewidth": 0,
                            "ticks": ""
                          }
                        },
                        "type": "scatter3d"
                      }
                    ],
                    "scattercarpet": [
                      {
                        "marker": {
                          "colorbar": {
                            "outlinewidth": 0,
                            "ticks": ""
                          }
                        },
                        "type": "scattercarpet"
                      }
                    ],
                    "scattergeo": [
                      {
                        "marker": {
                          "colorbar": {
                            "outlinewidth": 0,
                            "ticks": ""
                          }
                        },
                        "type": "scattergeo"
                      }
                    ],
                    "scattergl": [
                      {
                        "marker": {
                          "colorbar": {
                            "outlinewidth": 0,
                            "ticks": ""
                          }
                        },
                        "type": "scattergl"
                      }
                    ],
                    "scattermap": [
                      {
                        "marker": {
                          "colorbar": {
                            "outlinewidth": 0,
                            "ticks": ""
                          }
                        },
                        "type": "scattermap"
                      }
                    ],
                    "scattermapbox": [
                      {
                        "marker": {
                          "colorbar": {
                            "outlinewidth": 0,
                            "ticks": ""
                          }
                        },
                        "type": "scattermapbox"
                      }
                    ],
                    "scatterpolar": [
                      {
                        "marker": {
                          "colorbar": {
                            "outlinewidth": 0,
                            "ticks": ""
                          }
                        },
                        "type": "scatterpolar"
                      }
                    ],
                    "scatterpolargl": [
                      {
                        "marker": {
                          "colorbar": {
                            "outlinewidth": 0,
                            "ticks": ""
                          }
                        },
                        "type": "scatterpolargl"
                      }
                    ],
                    "scatterternary": [
                      {
                        "marker": {
                          "colorbar": {
                            "outlinewidth": 0,
                            "ticks": ""
                          }
                        },
                        "type": "scatterternary"
                      }
                    ],
                    "surface": [
                      {
                        "colorbar": {
                          "outlinewidth": 0,
                          "ticks": ""
                        },
                        "colorscale": [
                          [
                            0,
                            "#0d0887"
                          ],
                          [
                            0.1111111111111111,
                            "#46039f"
                          ],
                          [
                            0.2222222222222222,
                            "#7201a8"
                          ],
                          [
                            0.3333333333333333,
                            "#9c179e"
                          ],
                          [
                            0.4444444444444444,
                            "#bd3786"
                          ],
                          [
                            0.5555555555555556,
                            "#d8576b"
                          ],
                          [
                            0.6666666666666666,
                            "#ed7953"
                          ],
                          [
                            0.7777777777777778,
                            "#fb9f3a"
                          ],
                          [
                            0.8888888888888888,
                            "#fdca26"
                          ],
                          [
                            1,
                            "#f0f921"
                          ]
                        ],
                        "type": "surface"
                      }
                    ],
                    "table": [
                      {
                        "cells": {
                          "fill": {
                            "color": "#EBF0F8"
                          },
                          "line": {
                            "color": "white"
                          }
                        },
                        "header": {
                          "fill": {
                            "color": "#C8D4E3"
                          },
                          "line": {
                            "color": "white"
                          }
                        },
                        "type": "table"
                      }
                    ]
                  },
                  "layout": {
                    "annotationdefaults": {
                      "arrowcolor": "#2a3f5f",
                      "arrowhead": 0,
                      "arrowwidth": 1
                    },
                    "autotypenumbers": "strict",
                    "coloraxis": {
                      "colorbar": {
                        "outlinewidth": 0,
                        "ticks": ""
                      }
                    },
                    "colorscale": {
                      "diverging": [
                        [
                          0,
                          "#8e0152"
                        ],
                        [
                          0.1,
                          "#c51b7d"
                        ],
                        [
                          0.2,
                          "#de77ae"
                        ],
                        [
                          0.3,
                          "#f1b6da"
                        ],
                        [
                          0.4,
                          "#fde0ef"
                        ],
                        [
                          0.5,
                          "#f7f7f7"
                        ],
                        [
                          0.6,
                          "#e6f5d0"
                        ],
                        [
                          0.7,
                          "#b8e186"
                        ],
                        [
                          0.8,
                          "#7fbc41"
                        ],
                        [
                          0.9,
                          "#4d9221"
                        ],
                        [
                          1,
                          "#276419"
                        ]
                      ],
                      "sequential": [
                        [
                          0,
                          "#0d0887"
                        ],
                        [
                          0.1111111111111111,
                          "#46039f"
                        ],
                        [
                          0.2222222222222222,
                          "#7201a8"
                        ],
                        [
                          0.3333333333333333,
                          "#9c179e"
                        ],
                        [
                          0.4444444444444444,
                          "#bd3786"
                        ],
                        [
                          0.5555555555555556,
                          "#d8576b"
                        ],
                        [
                          0.6666666666666666,
                          "#ed7953"
                        ],
                        [
                          0.7777777777777778,
                          "#fb9f3a"
                        ],
                        [
                          0.8888888888888888,
                          "#fdca26"
                        ],
                        [
                          1,
                          "#f0f921"
                        ]
                      ],
                      "sequentialminus": [
                        [
                          0,
                          "#0d0887"
                        ],
                        [
                          0.1111111111111111,
                          "#46039f"
                        ],
                        [
                          0.2222222222222222,
                          "#7201a8"
                        ],
                        [
                          0.3333333333333333,
                          "#9c179e"
                        ],
                        [
                          0.4444444444444444,
                          "#bd3786"
                        ],
                        [
                          0.5555555555555556,
                          "#d8576b"
                        ],
                        [
                          0.6666666666666666,
                          "#ed7953"
                        ],
                        [
                          0.7777777777777778,
                          "#fb9f3a"
                        ],
                        [
                          0.8888888888888888,
                          "#fdca26"
                        ],
                        [
                          1,
                          "#f0f921"
                        ]
                      ]
                    },
                    "colorway": [
                      "#636efa",
                      "#EF553B",
                      "#00cc96",
                      "#ab63fa",
                      "#FFA15A",
                      "#19d3f3",
                      "#FF6692",
                      "#B6E880",
                      "#FF97FF",
                      "#FECB52"
                    ],
                    "font": {
                      "color": "#2a3f5f"
                    },
                    "geo": {
                      "bgcolor": "white",
                      "lakecolor": "white",
                      "landcolor": "#E5ECF6",
                      "showlakes": true,
                      "showland": true,
                      "subunitcolor": "white"
                    },
                    "hoverlabel": {
                      "align": "left"
                    },
                    "hovermode": "closest",
                    "mapbox": {
                      "style": "light"
                    },
                    "paper_bgcolor": "white",
                    "plot_bgcolor": "#E5ECF6",
                    "polar": {
                      "angularaxis": {
                        "gridcolor": "white",
                        "linecolor": "white",
                        "ticks": ""
                      },
                      "bgcolor": "#E5ECF6",
                      "radialaxis": {
                        "gridcolor": "white",
                        "linecolor": "white",
                        "ticks": ""
                      }
                    },
                    "scene": {
                      "xaxis": {
                        "backgroundcolor": "#E5ECF6",
                        "gridcolor": "white",
                        "gridwidth": 2,
                        "linecolor": "white",
                        "showbackground": true,
                        "ticks": "",
                        "zerolinecolor": "white"
                      },
                      "yaxis": {
                        "backgroundcolor": "#E5ECF6",
                        "gridcolor": "white",
                        "gridwidth": 2,
                        "linecolor": "white",
                        "showbackground": true,
                        "ticks": "",
                        "zerolinecolor": "white"
                      },
                      "zaxis": {
                        "backgroundcolor": "#E5ECF6",
                        "gridcolor": "white",
                        "gridwidth": 2,
                        "linecolor": "white",
                        "showbackground": true,
                        "ticks": "",
                        "zerolinecolor": "white"
                      }
                    },
                    "shapedefaults": {
                      "line": {
                        "color": "#2a3f5f"
                      }
                    },
                    "ternary": {
                      "aaxis": {
                        "gridcolor": "white",
                        "linecolor": "white",
                        "ticks": ""
                      },
                      "baxis": {
                        "gridcolor": "white",
                        "linecolor": "white",
                        "ticks": ""
                      },
                      "bgcolor": "#E5ECF6",
                      "caxis": {
                        "gridcolor": "white",
                        "linecolor": "white",
                        "ticks": ""
                      }
                    },
                    "title": {
                      "x": 0.05
                    },
                    "xaxis": {
                      "automargin": true,
                      "gridcolor": "white",
                      "linecolor": "white",
                      "ticks": "",
                      "title": {
                        "standoff": 15
                      },
                      "zerolinecolor": "white",
                      "zerolinewidth": 2
                    },
                    "yaxis": {
                      "automargin": true,
                      "gridcolor": "white",
                      "linecolor": "white",
                      "ticks": "",
                      "title": {
                        "standoff": 15
                      },
                      "zerolinecolor": "white",
                      "zerolinewidth": 2
                    }
                  }
                },
                "title": {
                  "text": "Posicionamento dos jogadores em campo"
                }
              }
            }
          },
          "metadata": {},
          "output_type": "display_data"
        }
      ],
      "source": [
        "# Create the figure\n",
        "fig = go.Figure()\n",
        "\n",
        "# Add the first scatter plot (blue dots) with labels for each point\n",
        "fig.add_trace(go.Scatter(\n",
        "    x=df_jogadores['Player_Position_X'],\n",
        "    y=df_jogadores['Player_Position_Y'],\n",
        "    mode='markers+text',  # Use markers and add text labels\n",
        "    name='Posição dos Jogadores',\n",
        "    marker=dict(color='blue'),\n",
        "    text=[f\"Player {i+1}\" for i in df_jogadores['Unnamed: 0']],  # Labels for each point\n",
        "    textposition='top center'  # Position of the text\n",
        "))\n",
        "\n",
        "# Add the second scatter plot (red dots) with labels for each point\n",
        "fig.add_trace(go.Scatter(\n",
        "    x=df_jogadores['Center_Side_A_X'],\n",
        "    y=df_jogadores['Center_Side_A_Y'],\n",
        "    mode='markers+text',  # Use markers and add text labels\n",
        "    name='Centro A',\n",
        "    marker=dict(color='red'),\n",
        "    text=['Centro A'],  # Label for this point\n",
        "    textposition='top center'  # Position of the text\n",
        "))\n",
        "\n",
        "# Add the third scatter plot (green dots) with labels for each point\n",
        "fig.add_trace(go.Scatter(\n",
        "    x=df_jogadores['Center_Side_B_X'],\n",
        "    y=df_jogadores['Center_Side_B_Y'],\n",
        "    mode='markers+text',  # Use markers and add text labels\n",
        "    name='Centro B',\n",
        "    marker=dict(color='green'),\n",
        "    text=['Centro B'],  # Label for this point\n",
        "    textposition='top center'  # Position of the text\n",
        "))\n",
        "\n",
        "# Add the second scatter plot (red dots) with labels for each point\n",
        "fig.add_trace(go.Scatter(\n",
        "    x=np.array(50),\n",
        "    y=np.array(50),\n",
        "    mode='markers+text',  # Use markers and add text labels\n",
        "    name='Meio do Campo',\n",
        "    marker=dict(color='black'),\n",
        "    text=['Meio do Campo'],  # Label for this point\n",
        "    textposition='top center'  # Position of the text\n",
        "))\n",
        "\n",
        "\n",
        "# Add vertical lines at Center_Side_A_X and Center_Side_B_X\n",
        "fig.add_shape(\n",
        "    go.layout.Shape(\n",
        "        type=\"line\",  # Type of shape is a line\n",
        "        x0=df_jogadores['Center_Side_A_X'][0],  # X position for Center A\n",
        "        y0=0,  # Starting y position\n",
        "        x1=df_jogadores['Center_Side_A_X'][0],  # Same x position for the vertical line\n",
        "        y1=max(df_jogadores['Player_Position_Y']),  # Ending y position\n",
        "        line=dict(color=\"red\", dash=\"dash\")  # Line color and style\n",
        "    )\n",
        ")\n",
        "\n",
        "fig.add_shape(\n",
        "    go.layout.Shape(\n",
        "        type=\"line\",  # Type of shape is a line\n",
        "        x0=df_jogadores['Center_Side_B_X'][0],  # X position for Center B\n",
        "        y0=0,  # Starting y position\n",
        "        x1=df_jogadores['Center_Side_B_X'][0],  # Same x position for the vertical line\n",
        "        y1=max(df_jogadores['Player_Position_Y']),  # Ending y position\n",
        "        line=dict(color=\"green\", dash=\"dash\")  # Line color and style\n",
        "    )\n",
        ")\n",
        "\n",
        "fig.add_shape(\n",
        "    go.layout.Shape(\n",
        "        type=\"line\",  # Type of shape is a line\n",
        "        x0=50,  # X position for Center B\n",
        "        y0=0,  # Starting y position\n",
        "        x1=50,  # Same x position for the vertical line\n",
        "        y1=100,  # Ending y position\n",
        "        line=dict(color=\"black\", dash=\"dash\")  # Line color and style\n",
        "    )\n",
        ")\n",
        "\n",
        "# Add title to the plot\n",
        "fig.update_layout(title=\"Posicionamento dos jogadores em campo\")\n",
        "\n",
        "# Remove background color (make transparent)\n",
        "fig.update_layout(\n",
        "    plot_bgcolor='rgba(0, 0, 0, 0)',  # Transparent background for the plot area\n",
        "    paper_bgcolor='rgba(0, 0, 0, 0)'  # Transparent background for the whole figure\n",
        ")\n",
        "\n",
        "# Show the figure\n",
        "fig.show()\n"
      ]
    },
    {
      "cell_type": "markdown",
      "metadata": {
        "id": "TmIsDfQHHLs3"
      },
      "source": [
        "Observações:\n",
        "\n",
        "1 - Podemos visualizar a divisão dos jogadores de acordo com cada centro de seus respectivos lados. Sendo assim, é **esperado** que:\n",
        "\n",
        "\n",
        "*   TIME A seja composto pelos jogadores 1 ao 11\n",
        "*   TIME B seja composto pelos jogadores 12 ao 22\n",
        "\n",
        "2 - Os jogadores não estão ultrapassando o meio de campo, logo cada um está no seu respectivo lado\n",
        "\n",
        "\n"
      ]
    },
    {
      "cell_type": "markdown",
      "metadata": {
        "id": "z566abLX1m3f"
      },
      "source": [
        "# Calculando a distância entre os jogadores\n",
        "\n",
        "Nosso objetivo é calcular as distâncias entre os jogadores e os centros e, com base nessas distâncias, determinar a equipe a que cada jogador pertence.\n",
        "\n",
        "vamos testar os 3 tipos de distância abaixo\n",
        "\n",
        "\n",
        "*   euclidiana\n",
        "*   manhattan\n",
        "*   chebyshev\n",
        "\n",
        "\n"
      ]
    },
    {
      "cell_type": "code",
      "execution_count": 12,
      "metadata": {
        "id": "MNCnX4oNzP4s"
      },
      "outputs": [],
      "source": [
        "# criando as tuplas que obtém o ponto x e y de cada jogador\n",
        "pos_players = []\n",
        "\n",
        "for x,y in zip(df_jogadores['Player_Position_X'],df_jogadores['Player_Position_Y']):\n",
        "  pos_players.append((x,y))\n",
        "\n",
        "# criando a lista com os valores dos centros\n",
        "pos_center = [(25,50),(75,50)]"
      ]
    },
    {
      "cell_type": "code",
      "execution_count": 13,
      "metadata": {
        "id": "_M9icOaz5LFc"
      },
      "outputs": [],
      "source": [
        "def calcula_dist_centro_A(x,y):\n",
        "  dist_euclidiana = [distance.euclidean(i,y) for i in x]\n",
        "  dist_manhattan = [distance.cityblock(i,y) for i in x]\n",
        "  dist_chebyshev = [distance.chebyshev(i,y) for i in x]\n",
        "\n",
        "  return dist_euclidiana,dist_manhattan,dist_chebyshev\n",
        "\n",
        "def calcula_dist_centro_B(x,y):\n",
        "  dist_euclidiana = [distance.euclidean(i,y) for i in x]\n",
        "  dist_manhattan = [distance.cityblock(i,y) for i in x]\n",
        "  dist_chebyshev = [distance.chebyshev(i,y) for i in x]\n",
        "\n",
        "  return dist_euclidiana,dist_manhattan,dist_chebyshev\n",
        "\n",
        "# aplicando os valores das funções\n",
        "dist_e_ca, dist_m_ca, dist_c_ca = calcula_dist_centro_A(pos_players,pos_center[0])\n",
        "dist_e_cb, dist_m_cb, dist_c_cb = calcula_dist_centro_B(pos_players,pos_center[1])"
      ]
    },
    {
      "cell_type": "markdown",
      "metadata": {
        "id": "79wA5bz_6qS8"
      },
      "source": [
        "# Agrupar os jogadores por meio da distância"
      ]
    },
    {
      "cell_type": "code",
      "execution_count": 14,
      "metadata": {
        "id": "auLsV4Ay8l1T"
      },
      "outputs": [],
      "source": [
        "# considerando que a coluna de Unnamed: 0 define a label da posição do jogador então iremos criar uma coluna de label por jogador\n",
        "labels = [f\"Jogador {i+1}\" for i in df_jogadores['Unnamed: 0']]\n",
        "df_jogadores['Label_Jogador']= labels"
      ]
    },
    {
      "cell_type": "code",
      "execution_count": 15,
      "metadata": {
        "colab": {
          "base_uri": "https://localhost:8080/",
          "height": 206
        },
        "id": "D_p71EwM9P5e",
        "outputId": "137a93ab-b57b-491c-bf59-1cd0ba7709ac"
      },
      "outputs": [
        {
          "data": {
            "text/html": [
              "<div>\n",
              "<style scoped>\n",
              "    .dataframe tbody tr th:only-of-type {\n",
              "        vertical-align: middle;\n",
              "    }\n",
              "\n",
              "    .dataframe tbody tr th {\n",
              "        vertical-align: top;\n",
              "    }\n",
              "\n",
              "    .dataframe thead th {\n",
              "        text-align: right;\n",
              "    }\n",
              "</style>\n",
              "<table border=\"1\" class=\"dataframe\">\n",
              "  <thead>\n",
              "    <tr style=\"text-align: right;\">\n",
              "      <th></th>\n",
              "      <th>Unnamed: 0</th>\n",
              "      <th>Player_Position_X</th>\n",
              "      <th>Player_Position_Y</th>\n",
              "      <th>Center_Side_A_X</th>\n",
              "      <th>Center_Side_A_Y</th>\n",
              "      <th>Center_Side_B_X</th>\n",
              "      <th>Center_Side_B_Y</th>\n",
              "      <th>Label_Jogador</th>\n",
              "    </tr>\n",
              "  </thead>\n",
              "  <tbody>\n",
              "    <tr>\n",
              "      <th>0</th>\n",
              "      <td>0</td>\n",
              "      <td>8.107316</td>\n",
              "      <td>13.362118</td>\n",
              "      <td>25.0</td>\n",
              "      <td>50.0</td>\n",
              "      <td>75</td>\n",
              "      <td>50</td>\n",
              "      <td>Jogador 1</td>\n",
              "    </tr>\n",
              "    <tr>\n",
              "      <th>1</th>\n",
              "      <td>1</td>\n",
              "      <td>48.687401</td>\n",
              "      <td>80.312717</td>\n",
              "      <td>25.0</td>\n",
              "      <td>50.0</td>\n",
              "      <td>75</td>\n",
              "      <td>50</td>\n",
              "      <td>Jogador 2</td>\n",
              "    </tr>\n",
              "    <tr>\n",
              "      <th>2</th>\n",
              "      <td>2</td>\n",
              "      <td>31.740322</td>\n",
              "      <td>64.865129</td>\n",
              "      <td>25.0</td>\n",
              "      <td>NaN</td>\n",
              "      <td>75</td>\n",
              "      <td>50</td>\n",
              "      <td>Jogador 3</td>\n",
              "    </tr>\n",
              "    <tr>\n",
              "      <th>3</th>\n",
              "      <td>3</td>\n",
              "      <td>13.652919</td>\n",
              "      <td>81.462626</td>\n",
              "      <td>25.0</td>\n",
              "      <td>50.0</td>\n",
              "      <td>75</td>\n",
              "      <td>50</td>\n",
              "      <td>Jogador 4</td>\n",
              "    </tr>\n",
              "    <tr>\n",
              "      <th>4</th>\n",
              "      <td>4</td>\n",
              "      <td>19.134233</td>\n",
              "      <td>28.985857</td>\n",
              "      <td>25.0</td>\n",
              "      <td>50.0</td>\n",
              "      <td>75</td>\n",
              "      <td>50</td>\n",
              "      <td>Jogador 5</td>\n",
              "    </tr>\n",
              "  </tbody>\n",
              "</table>\n",
              "</div>"
            ],
            "text/plain": [
              "   Unnamed: 0  Player_Position_X  Player_Position_Y  Center_Side_A_X  \\\n",
              "0           0           8.107316          13.362118             25.0   \n",
              "1           1          48.687401          80.312717             25.0   \n",
              "2           2          31.740322          64.865129             25.0   \n",
              "3           3          13.652919          81.462626             25.0   \n",
              "4           4          19.134233          28.985857             25.0   \n",
              "\n",
              "   Center_Side_A_Y  Center_Side_B_X  Center_Side_B_Y Label_Jogador  \n",
              "0             50.0               75               50     Jogador 1  \n",
              "1             50.0               75               50     Jogador 2  \n",
              "2              NaN               75               50     Jogador 3  \n",
              "3             50.0               75               50     Jogador 4  \n",
              "4             50.0               75               50     Jogador 5  "
            ]
          },
          "execution_count": 15,
          "metadata": {},
          "output_type": "execute_result"
        }
      ],
      "source": [
        "df_jogadores.head()"
      ]
    },
    {
      "cell_type": "markdown",
      "metadata": {
        "id": "V7LnASqpAqjz"
      },
      "source": [
        "## distância euclidiana"
      ]
    },
    {
      "cell_type": "code",
      "execution_count": 16,
      "metadata": {
        "id": "4d2LYGSY96u0"
      },
      "outputs": [],
      "source": [
        "# adicionando a coluna do resultado da distancia euclidiana\n",
        "df_jogadores['Distancia_euclidiana_ca'] = dist_e_ca\n",
        "df_jogadores['Distancia_euclidiana_cb'] = dist_e_cb"
      ]
    },
    {
      "cell_type": "code",
      "execution_count": 17,
      "metadata": {
        "colab": {
          "base_uri": "https://localhost:8080/",
          "height": 244
        },
        "id": "vyNK3a3S-F09",
        "outputId": "ede5bdfb-062a-46f8-ffc8-50470e222a9c"
      },
      "outputs": [
        {
          "data": {
            "text/html": [
              "<div>\n",
              "<style scoped>\n",
              "    .dataframe tbody tr th:only-of-type {\n",
              "        vertical-align: middle;\n",
              "    }\n",
              "\n",
              "    .dataframe tbody tr th {\n",
              "        vertical-align: top;\n",
              "    }\n",
              "\n",
              "    .dataframe thead th {\n",
              "        text-align: right;\n",
              "    }\n",
              "</style>\n",
              "<table border=\"1\" class=\"dataframe\">\n",
              "  <thead>\n",
              "    <tr style=\"text-align: right;\">\n",
              "      <th></th>\n",
              "      <th>Unnamed: 0</th>\n",
              "      <th>Player_Position_X</th>\n",
              "      <th>Player_Position_Y</th>\n",
              "      <th>Center_Side_A_X</th>\n",
              "      <th>Center_Side_A_Y</th>\n",
              "      <th>Center_Side_B_X</th>\n",
              "      <th>Center_Side_B_Y</th>\n",
              "      <th>Label_Jogador</th>\n",
              "      <th>Distancia_euclidiana_ca</th>\n",
              "      <th>Distancia_euclidiana_cb</th>\n",
              "    </tr>\n",
              "  </thead>\n",
              "  <tbody>\n",
              "    <tr>\n",
              "      <th>0</th>\n",
              "      <td>0</td>\n",
              "      <td>8.107316</td>\n",
              "      <td>13.362118</td>\n",
              "      <td>25.0</td>\n",
              "      <td>50.0</td>\n",
              "      <td>75</td>\n",
              "      <td>50</td>\n",
              "      <td>Jogador 1</td>\n",
              "      <td>40.344729</td>\n",
              "      <td>76.269034</td>\n",
              "    </tr>\n",
              "    <tr>\n",
              "      <th>1</th>\n",
              "      <td>1</td>\n",
              "      <td>48.687401</td>\n",
              "      <td>80.312717</td>\n",
              "      <td>25.0</td>\n",
              "      <td>50.0</td>\n",
              "      <td>75</td>\n",
              "      <td>50</td>\n",
              "      <td>Jogador 2</td>\n",
              "      <td>38.470167</td>\n",
              "      <td>40.139927</td>\n",
              "    </tr>\n",
              "    <tr>\n",
              "      <th>2</th>\n",
              "      <td>2</td>\n",
              "      <td>31.740322</td>\n",
              "      <td>64.865129</td>\n",
              "      <td>25.0</td>\n",
              "      <td>NaN</td>\n",
              "      <td>75</td>\n",
              "      <td>50</td>\n",
              "      <td>Jogador 3</td>\n",
              "      <td>16.321887</td>\n",
              "      <td>45.742451</td>\n",
              "    </tr>\n",
              "    <tr>\n",
              "      <th>3</th>\n",
              "      <td>3</td>\n",
              "      <td>13.652919</td>\n",
              "      <td>81.462626</td>\n",
              "      <td>25.0</td>\n",
              "      <td>50.0</td>\n",
              "      <td>75</td>\n",
              "      <td>50</td>\n",
              "      <td>Jogador 4</td>\n",
              "      <td>33.446271</td>\n",
              "      <td>68.944624</td>\n",
              "    </tr>\n",
              "    <tr>\n",
              "      <th>4</th>\n",
              "      <td>4</td>\n",
              "      <td>19.134233</td>\n",
              "      <td>28.985857</td>\n",
              "      <td>25.0</td>\n",
              "      <td>50.0</td>\n",
              "      <td>75</td>\n",
              "      <td>50</td>\n",
              "      <td>Jogador 5</td>\n",
              "      <td>21.817457</td>\n",
              "      <td>59.687337</td>\n",
              "    </tr>\n",
              "  </tbody>\n",
              "</table>\n",
              "</div>"
            ],
            "text/plain": [
              "   Unnamed: 0  Player_Position_X  Player_Position_Y  Center_Side_A_X  \\\n",
              "0           0           8.107316          13.362118             25.0   \n",
              "1           1          48.687401          80.312717             25.0   \n",
              "2           2          31.740322          64.865129             25.0   \n",
              "3           3          13.652919          81.462626             25.0   \n",
              "4           4          19.134233          28.985857             25.0   \n",
              "\n",
              "   Center_Side_A_Y  Center_Side_B_X  Center_Side_B_Y Label_Jogador  \\\n",
              "0             50.0               75               50     Jogador 1   \n",
              "1             50.0               75               50     Jogador 2   \n",
              "2              NaN               75               50     Jogador 3   \n",
              "3             50.0               75               50     Jogador 4   \n",
              "4             50.0               75               50     Jogador 5   \n",
              "\n",
              "   Distancia_euclidiana_ca  Distancia_euclidiana_cb  \n",
              "0                40.344729                76.269034  \n",
              "1                38.470167                40.139927  \n",
              "2                16.321887                45.742451  \n",
              "3                33.446271                68.944624  \n",
              "4                21.817457                59.687337  "
            ]
          },
          "execution_count": 17,
          "metadata": {},
          "output_type": "execute_result"
        }
      ],
      "source": [
        "df_jogadores.head()"
      ]
    },
    {
      "cell_type": "code",
      "execution_count": 18,
      "metadata": {
        "id": "vzaSK79Q-MSM"
      },
      "outputs": [],
      "source": [
        "# criando os grupos de acordo com a distância\n",
        "def grupo_dist_euclidiana(df):\n",
        "  if df['Distancia_euclidiana_ca'] < df['Distancia_euclidiana_cb']:\n",
        "    return 'Time A'\n",
        "  else:\n",
        "    return 'Time B'\n",
        "\n",
        "df_jogadores['Grupo_dist_euclidiana'] = df_jogadores.apply(grupo_dist_euclidiana,axis=1)"
      ]
    },
    {
      "cell_type": "code",
      "execution_count": 19,
      "metadata": {
        "colab": {
          "base_uri": "https://localhost:8080/",
          "height": 806
        },
        "id": "hG1c9F5J-VMK",
        "outputId": "5b98e2c0-08df-4bfa-a28a-9c66f3db999c"
      },
      "outputs": [
        {
          "data": {
            "text/plain": [
              "Grupo_dist_euclidiana  Label_Jogador\n",
              "Time A                 Jogador 1        1\n",
              "                       Jogador 10       1\n",
              "                       Jogador 11       1\n",
              "                       Jogador 2        1\n",
              "                       Jogador 3        1\n",
              "                       Jogador 4        1\n",
              "                       Jogador 5        1\n",
              "                       Jogador 6        1\n",
              "                       Jogador 7        1\n",
              "                       Jogador 8        1\n",
              "                       Jogador 9        1\n",
              "Time B                 Jogador 12       1\n",
              "                       Jogador 13       1\n",
              "                       Jogador 14       1\n",
              "                       Jogador 15       1\n",
              "                       Jogador 16       1\n",
              "                       Jogador 17       1\n",
              "                       Jogador 18       1\n",
              "                       Jogador 19       1\n",
              "                       Jogador 20       1\n",
              "                       Jogador 21       1\n",
              "                       Jogador 22       1\n",
              "Name: Grupo_dist_euclidiana, dtype: int64"
            ]
          },
          "execution_count": 19,
          "metadata": {},
          "output_type": "execute_result"
        }
      ],
      "source": [
        "df_jogadores.groupby(['Grupo_dist_euclidiana','Label_Jogador'])['Grupo_dist_euclidiana'].count()"
      ]
    },
    {
      "cell_type": "code",
      "execution_count": 20,
      "metadata": {
        "colab": {
          "base_uri": "https://localhost:8080/",
          "height": 542
        },
        "id": "IOPC-_Qy6h1b",
        "outputId": "145243f2-962d-475a-d0a5-0207deba9c63"
      },
      "outputs": [
        {
          "data": {
            "application/vnd.plotly.v1+json": {
              "config": {
                "plotlyServerURL": "https://plot.ly"
              },
              "data": [
                {
                  "marker": {
                    "color": "blue"
                  },
                  "mode": "markers+text",
                  "name": "Posição dos Jogadores",
                  "text": [
                    "Time A",
                    "Time A",
                    "Time A",
                    "Time A",
                    "Time A",
                    "Time A",
                    "Time A",
                    "Time A",
                    "Time A",
                    "Time A",
                    "Time A",
                    "Time B",
                    "Time B",
                    "Time B",
                    "Time B",
                    "Time B",
                    "Time B",
                    "Time B",
                    "Time B",
                    "Time B",
                    "Time B",
                    "Time B"
                  ],
                  "textposition": "top center",
                  "type": "scatter",
                  "x": {
                    "bdata": "rjNeJfI2IEAJRcK+/FdIQBPTyLWFvT9AYl1LWEtOK0CeqiIYXSIzQG5+rpAPyzBAU7mjAwpFMkD/pPqJ2xAtQEm4nTxe0DBAG8pkkXmsQkDU4as1SVHkP5D/qLhAWUxAT1siNbYQVEB3KCKd0RhUQFO/p0MaCVBAddPk00k1T0DhS1bYhBBMQLZUF5wC5lZAL1O2rFBDTUCJFgFvt0xUQCpAS+HGW1NA2nuAIL0WWEA=",
                    "dtype": "f8"
                  },
                  "y": {
                    "bdata": "/NgXgWe5KkAwrAiPAxRUQE6yl0deN1BAo/L/qJtdVEC4XZMZYfw8QJswpU1wTFhAYeYu0IoiTEAoiwQe9VAyQLjyC8r/qVNAps2CWubkBUBdPN8xvexWQP9SCzN9jFRA1UrRioY0VkBTJfUzbfBTQC1jd1y8dlNAtN8+M1g5UEAdE8IsNJNQQJ7mBzHXYz1Aunc29+vNIkBrq8+uswhYQJZWH2OyPEhAlRdjyoL6S0A=",
                    "dtype": "f8"
                  }
                },
                {
                  "marker": {
                    "color": "red"
                  },
                  "mode": "markers+text",
                  "name": "Centro A",
                  "text": [
                    "Centro A"
                  ],
                  "textposition": "top center",
                  "type": "scatter",
                  "x": {
                    "bdata": "AAAAAAAAOUAAAAAAAAA5QAAAAAAAADlAAAAAAAAAOUAAAAAAAAA5QAAAAAAAAPh/AAAAAAAAOUAAAAAAAAA5QAAAAAAAADlAAAAAAAAAOUAAAAAAAAA5QAAAAAAAADlAAAAAAAAAOUAAAAAAAAA5QAAAAAAAAPh/AAAAAAAAOUAAAAAAAAA5QAAAAAAAADlAAAAAAAAAOUAAAAAAAAA5QAAAAAAAADlAAAAAAAAAOUA=",
                    "dtype": "f8"
                  },
                  "y": {
                    "bdata": "AAAAAAAASUAAAAAAAABJQAAAAAAAAPh/AAAAAAAASUAAAAAAAABJQAAAAAAAAElAAAAAAAAASUAAAAAAAABJQAAAAAAAAElAAAAAAAAASUAAAAAAAABJQAAAAAAAAElAAAAAAAAASUAAAAAAAABJQAAAAAAAAElAAAAAAAAASUAAAAAAAAD4fwAAAAAAAElAAAAAAAAASUAAAAAAAABJQAAAAAAAAElAAAAAAAAASUA=",
                    "dtype": "f8"
                  }
                },
                {
                  "marker": {
                    "color": "black"
                  },
                  "mode": "markers+text",
                  "name": "Meio do Campo",
                  "text": [
                    "Meio do Campo"
                  ],
                  "textposition": "top center",
                  "type": "scatter",
                  "x": {
                    "bdata": "Mg==",
                    "dtype": "i1"
                  },
                  "y": {
                    "bdata": "Mg==",
                    "dtype": "i1"
                  }
                },
                {
                  "marker": {
                    "color": "green"
                  },
                  "mode": "markers+text",
                  "name": "Centro B",
                  "text": [
                    "Centro B"
                  ],
                  "textposition": "top center",
                  "type": "scatter",
                  "x": {
                    "bdata": "S0tLS0tLS0tLS0tLS0tLS0tLS0tLSw==",
                    "dtype": "i1"
                  },
                  "y": {
                    "bdata": "MjIyMjIyMjIyMjIyMjIyMjIyMjIyMg==",
                    "dtype": "i1"
                  }
                }
              ],
              "layout": {
                "paper_bgcolor": "rgba(0, 0, 0, 0)",
                "plot_bgcolor": "rgba(0, 0, 0, 0)",
                "shapes": [
                  {
                    "line": {
                      "color": "red",
                      "dash": "dash"
                    },
                    "type": "line",
                    "x0": 25,
                    "x1": 25,
                    "y0": 0,
                    "y1": 97.19435444957564
                  },
                  {
                    "line": {
                      "color": "green",
                      "dash": "dash"
                    },
                    "type": "line",
                    "x0": 75,
                    "x1": 75,
                    "y0": 0,
                    "y1": 97.19435444957564
                  },
                  {
                    "line": {
                      "color": "black",
                      "dash": "dash"
                    },
                    "type": "line",
                    "x0": 50,
                    "x1": 50,
                    "y0": 0,
                    "y1": 100
                  }
                ],
                "template": {
                  "data": {
                    "bar": [
                      {
                        "error_x": {
                          "color": "#2a3f5f"
                        },
                        "error_y": {
                          "color": "#2a3f5f"
                        },
                        "marker": {
                          "line": {
                            "color": "#E5ECF6",
                            "width": 0.5
                          },
                          "pattern": {
                            "fillmode": "overlay",
                            "size": 10,
                            "solidity": 0.2
                          }
                        },
                        "type": "bar"
                      }
                    ],
                    "barpolar": [
                      {
                        "marker": {
                          "line": {
                            "color": "#E5ECF6",
                            "width": 0.5
                          },
                          "pattern": {
                            "fillmode": "overlay",
                            "size": 10,
                            "solidity": 0.2
                          }
                        },
                        "type": "barpolar"
                      }
                    ],
                    "carpet": [
                      {
                        "aaxis": {
                          "endlinecolor": "#2a3f5f",
                          "gridcolor": "white",
                          "linecolor": "white",
                          "minorgridcolor": "white",
                          "startlinecolor": "#2a3f5f"
                        },
                        "baxis": {
                          "endlinecolor": "#2a3f5f",
                          "gridcolor": "white",
                          "linecolor": "white",
                          "minorgridcolor": "white",
                          "startlinecolor": "#2a3f5f"
                        },
                        "type": "carpet"
                      }
                    ],
                    "choropleth": [
                      {
                        "colorbar": {
                          "outlinewidth": 0,
                          "ticks": ""
                        },
                        "type": "choropleth"
                      }
                    ],
                    "contour": [
                      {
                        "colorbar": {
                          "outlinewidth": 0,
                          "ticks": ""
                        },
                        "colorscale": [
                          [
                            0,
                            "#0d0887"
                          ],
                          [
                            0.1111111111111111,
                            "#46039f"
                          ],
                          [
                            0.2222222222222222,
                            "#7201a8"
                          ],
                          [
                            0.3333333333333333,
                            "#9c179e"
                          ],
                          [
                            0.4444444444444444,
                            "#bd3786"
                          ],
                          [
                            0.5555555555555556,
                            "#d8576b"
                          ],
                          [
                            0.6666666666666666,
                            "#ed7953"
                          ],
                          [
                            0.7777777777777778,
                            "#fb9f3a"
                          ],
                          [
                            0.8888888888888888,
                            "#fdca26"
                          ],
                          [
                            1,
                            "#f0f921"
                          ]
                        ],
                        "type": "contour"
                      }
                    ],
                    "contourcarpet": [
                      {
                        "colorbar": {
                          "outlinewidth": 0,
                          "ticks": ""
                        },
                        "type": "contourcarpet"
                      }
                    ],
                    "heatmap": [
                      {
                        "colorbar": {
                          "outlinewidth": 0,
                          "ticks": ""
                        },
                        "colorscale": [
                          [
                            0,
                            "#0d0887"
                          ],
                          [
                            0.1111111111111111,
                            "#46039f"
                          ],
                          [
                            0.2222222222222222,
                            "#7201a8"
                          ],
                          [
                            0.3333333333333333,
                            "#9c179e"
                          ],
                          [
                            0.4444444444444444,
                            "#bd3786"
                          ],
                          [
                            0.5555555555555556,
                            "#d8576b"
                          ],
                          [
                            0.6666666666666666,
                            "#ed7953"
                          ],
                          [
                            0.7777777777777778,
                            "#fb9f3a"
                          ],
                          [
                            0.8888888888888888,
                            "#fdca26"
                          ],
                          [
                            1,
                            "#f0f921"
                          ]
                        ],
                        "type": "heatmap"
                      }
                    ],
                    "histogram": [
                      {
                        "marker": {
                          "pattern": {
                            "fillmode": "overlay",
                            "size": 10,
                            "solidity": 0.2
                          }
                        },
                        "type": "histogram"
                      }
                    ],
                    "histogram2d": [
                      {
                        "colorbar": {
                          "outlinewidth": 0,
                          "ticks": ""
                        },
                        "colorscale": [
                          [
                            0,
                            "#0d0887"
                          ],
                          [
                            0.1111111111111111,
                            "#46039f"
                          ],
                          [
                            0.2222222222222222,
                            "#7201a8"
                          ],
                          [
                            0.3333333333333333,
                            "#9c179e"
                          ],
                          [
                            0.4444444444444444,
                            "#bd3786"
                          ],
                          [
                            0.5555555555555556,
                            "#d8576b"
                          ],
                          [
                            0.6666666666666666,
                            "#ed7953"
                          ],
                          [
                            0.7777777777777778,
                            "#fb9f3a"
                          ],
                          [
                            0.8888888888888888,
                            "#fdca26"
                          ],
                          [
                            1,
                            "#f0f921"
                          ]
                        ],
                        "type": "histogram2d"
                      }
                    ],
                    "histogram2dcontour": [
                      {
                        "colorbar": {
                          "outlinewidth": 0,
                          "ticks": ""
                        },
                        "colorscale": [
                          [
                            0,
                            "#0d0887"
                          ],
                          [
                            0.1111111111111111,
                            "#46039f"
                          ],
                          [
                            0.2222222222222222,
                            "#7201a8"
                          ],
                          [
                            0.3333333333333333,
                            "#9c179e"
                          ],
                          [
                            0.4444444444444444,
                            "#bd3786"
                          ],
                          [
                            0.5555555555555556,
                            "#d8576b"
                          ],
                          [
                            0.6666666666666666,
                            "#ed7953"
                          ],
                          [
                            0.7777777777777778,
                            "#fb9f3a"
                          ],
                          [
                            0.8888888888888888,
                            "#fdca26"
                          ],
                          [
                            1,
                            "#f0f921"
                          ]
                        ],
                        "type": "histogram2dcontour"
                      }
                    ],
                    "mesh3d": [
                      {
                        "colorbar": {
                          "outlinewidth": 0,
                          "ticks": ""
                        },
                        "type": "mesh3d"
                      }
                    ],
                    "parcoords": [
                      {
                        "line": {
                          "colorbar": {
                            "outlinewidth": 0,
                            "ticks": ""
                          }
                        },
                        "type": "parcoords"
                      }
                    ],
                    "pie": [
                      {
                        "automargin": true,
                        "type": "pie"
                      }
                    ],
                    "scatter": [
                      {
                        "fillpattern": {
                          "fillmode": "overlay",
                          "size": 10,
                          "solidity": 0.2
                        },
                        "type": "scatter"
                      }
                    ],
                    "scatter3d": [
                      {
                        "line": {
                          "colorbar": {
                            "outlinewidth": 0,
                            "ticks": ""
                          }
                        },
                        "marker": {
                          "colorbar": {
                            "outlinewidth": 0,
                            "ticks": ""
                          }
                        },
                        "type": "scatter3d"
                      }
                    ],
                    "scattercarpet": [
                      {
                        "marker": {
                          "colorbar": {
                            "outlinewidth": 0,
                            "ticks": ""
                          }
                        },
                        "type": "scattercarpet"
                      }
                    ],
                    "scattergeo": [
                      {
                        "marker": {
                          "colorbar": {
                            "outlinewidth": 0,
                            "ticks": ""
                          }
                        },
                        "type": "scattergeo"
                      }
                    ],
                    "scattergl": [
                      {
                        "marker": {
                          "colorbar": {
                            "outlinewidth": 0,
                            "ticks": ""
                          }
                        },
                        "type": "scattergl"
                      }
                    ],
                    "scattermap": [
                      {
                        "marker": {
                          "colorbar": {
                            "outlinewidth": 0,
                            "ticks": ""
                          }
                        },
                        "type": "scattermap"
                      }
                    ],
                    "scattermapbox": [
                      {
                        "marker": {
                          "colorbar": {
                            "outlinewidth": 0,
                            "ticks": ""
                          }
                        },
                        "type": "scattermapbox"
                      }
                    ],
                    "scatterpolar": [
                      {
                        "marker": {
                          "colorbar": {
                            "outlinewidth": 0,
                            "ticks": ""
                          }
                        },
                        "type": "scatterpolar"
                      }
                    ],
                    "scatterpolargl": [
                      {
                        "marker": {
                          "colorbar": {
                            "outlinewidth": 0,
                            "ticks": ""
                          }
                        },
                        "type": "scatterpolargl"
                      }
                    ],
                    "scatterternary": [
                      {
                        "marker": {
                          "colorbar": {
                            "outlinewidth": 0,
                            "ticks": ""
                          }
                        },
                        "type": "scatterternary"
                      }
                    ],
                    "surface": [
                      {
                        "colorbar": {
                          "outlinewidth": 0,
                          "ticks": ""
                        },
                        "colorscale": [
                          [
                            0,
                            "#0d0887"
                          ],
                          [
                            0.1111111111111111,
                            "#46039f"
                          ],
                          [
                            0.2222222222222222,
                            "#7201a8"
                          ],
                          [
                            0.3333333333333333,
                            "#9c179e"
                          ],
                          [
                            0.4444444444444444,
                            "#bd3786"
                          ],
                          [
                            0.5555555555555556,
                            "#d8576b"
                          ],
                          [
                            0.6666666666666666,
                            "#ed7953"
                          ],
                          [
                            0.7777777777777778,
                            "#fb9f3a"
                          ],
                          [
                            0.8888888888888888,
                            "#fdca26"
                          ],
                          [
                            1,
                            "#f0f921"
                          ]
                        ],
                        "type": "surface"
                      }
                    ],
                    "table": [
                      {
                        "cells": {
                          "fill": {
                            "color": "#EBF0F8"
                          },
                          "line": {
                            "color": "white"
                          }
                        },
                        "header": {
                          "fill": {
                            "color": "#C8D4E3"
                          },
                          "line": {
                            "color": "white"
                          }
                        },
                        "type": "table"
                      }
                    ]
                  },
                  "layout": {
                    "annotationdefaults": {
                      "arrowcolor": "#2a3f5f",
                      "arrowhead": 0,
                      "arrowwidth": 1
                    },
                    "autotypenumbers": "strict",
                    "coloraxis": {
                      "colorbar": {
                        "outlinewidth": 0,
                        "ticks": ""
                      }
                    },
                    "colorscale": {
                      "diverging": [
                        [
                          0,
                          "#8e0152"
                        ],
                        [
                          0.1,
                          "#c51b7d"
                        ],
                        [
                          0.2,
                          "#de77ae"
                        ],
                        [
                          0.3,
                          "#f1b6da"
                        ],
                        [
                          0.4,
                          "#fde0ef"
                        ],
                        [
                          0.5,
                          "#f7f7f7"
                        ],
                        [
                          0.6,
                          "#e6f5d0"
                        ],
                        [
                          0.7,
                          "#b8e186"
                        ],
                        [
                          0.8,
                          "#7fbc41"
                        ],
                        [
                          0.9,
                          "#4d9221"
                        ],
                        [
                          1,
                          "#276419"
                        ]
                      ],
                      "sequential": [
                        [
                          0,
                          "#0d0887"
                        ],
                        [
                          0.1111111111111111,
                          "#46039f"
                        ],
                        [
                          0.2222222222222222,
                          "#7201a8"
                        ],
                        [
                          0.3333333333333333,
                          "#9c179e"
                        ],
                        [
                          0.4444444444444444,
                          "#bd3786"
                        ],
                        [
                          0.5555555555555556,
                          "#d8576b"
                        ],
                        [
                          0.6666666666666666,
                          "#ed7953"
                        ],
                        [
                          0.7777777777777778,
                          "#fb9f3a"
                        ],
                        [
                          0.8888888888888888,
                          "#fdca26"
                        ],
                        [
                          1,
                          "#f0f921"
                        ]
                      ],
                      "sequentialminus": [
                        [
                          0,
                          "#0d0887"
                        ],
                        [
                          0.1111111111111111,
                          "#46039f"
                        ],
                        [
                          0.2222222222222222,
                          "#7201a8"
                        ],
                        [
                          0.3333333333333333,
                          "#9c179e"
                        ],
                        [
                          0.4444444444444444,
                          "#bd3786"
                        ],
                        [
                          0.5555555555555556,
                          "#d8576b"
                        ],
                        [
                          0.6666666666666666,
                          "#ed7953"
                        ],
                        [
                          0.7777777777777778,
                          "#fb9f3a"
                        ],
                        [
                          0.8888888888888888,
                          "#fdca26"
                        ],
                        [
                          1,
                          "#f0f921"
                        ]
                      ]
                    },
                    "colorway": [
                      "#636efa",
                      "#EF553B",
                      "#00cc96",
                      "#ab63fa",
                      "#FFA15A",
                      "#19d3f3",
                      "#FF6692",
                      "#B6E880",
                      "#FF97FF",
                      "#FECB52"
                    ],
                    "font": {
                      "color": "#2a3f5f"
                    },
                    "geo": {
                      "bgcolor": "white",
                      "lakecolor": "white",
                      "landcolor": "#E5ECF6",
                      "showlakes": true,
                      "showland": true,
                      "subunitcolor": "white"
                    },
                    "hoverlabel": {
                      "align": "left"
                    },
                    "hovermode": "closest",
                    "mapbox": {
                      "style": "light"
                    },
                    "paper_bgcolor": "white",
                    "plot_bgcolor": "#E5ECF6",
                    "polar": {
                      "angularaxis": {
                        "gridcolor": "white",
                        "linecolor": "white",
                        "ticks": ""
                      },
                      "bgcolor": "#E5ECF6",
                      "radialaxis": {
                        "gridcolor": "white",
                        "linecolor": "white",
                        "ticks": ""
                      }
                    },
                    "scene": {
                      "xaxis": {
                        "backgroundcolor": "#E5ECF6",
                        "gridcolor": "white",
                        "gridwidth": 2,
                        "linecolor": "white",
                        "showbackground": true,
                        "ticks": "",
                        "zerolinecolor": "white"
                      },
                      "yaxis": {
                        "backgroundcolor": "#E5ECF6",
                        "gridcolor": "white",
                        "gridwidth": 2,
                        "linecolor": "white",
                        "showbackground": true,
                        "ticks": "",
                        "zerolinecolor": "white"
                      },
                      "zaxis": {
                        "backgroundcolor": "#E5ECF6",
                        "gridcolor": "white",
                        "gridwidth": 2,
                        "linecolor": "white",
                        "showbackground": true,
                        "ticks": "",
                        "zerolinecolor": "white"
                      }
                    },
                    "shapedefaults": {
                      "line": {
                        "color": "#2a3f5f"
                      }
                    },
                    "ternary": {
                      "aaxis": {
                        "gridcolor": "white",
                        "linecolor": "white",
                        "ticks": ""
                      },
                      "baxis": {
                        "gridcolor": "white",
                        "linecolor": "white",
                        "ticks": ""
                      },
                      "bgcolor": "#E5ECF6",
                      "caxis": {
                        "gridcolor": "white",
                        "linecolor": "white",
                        "ticks": ""
                      }
                    },
                    "title": {
                      "x": 0.05
                    },
                    "xaxis": {
                      "automargin": true,
                      "gridcolor": "white",
                      "linecolor": "white",
                      "ticks": "",
                      "title": {
                        "standoff": 15
                      },
                      "zerolinecolor": "white",
                      "zerolinewidth": 2
                    },
                    "yaxis": {
                      "automargin": true,
                      "gridcolor": "white",
                      "linecolor": "white",
                      "ticks": "",
                      "title": {
                        "standoff": 15
                      },
                      "zerolinecolor": "white",
                      "zerolinewidth": 2
                    }
                  }
                },
                "title": {
                  "text": "Posicionamento dos jogadores em campo por Time de acordo com a distância euclidiana"
                }
              }
            }
          },
          "metadata": {},
          "output_type": "display_data"
        }
      ],
      "source": [
        "# visualizando os dados\n",
        "\n",
        "# Create the figure\n",
        "fig = go.Figure()\n",
        "\n",
        "# Add the first scatter plot (blue dots) with labels for each point\n",
        "fig.add_trace(go.Scatter(\n",
        "    x=df_jogadores['Player_Position_X'],\n",
        "    y=df_jogadores['Player_Position_Y'],\n",
        "    mode='markers+text',  # Use markers and add text labels\n",
        "    name='Posição dos Jogadores',\n",
        "    marker=dict(color='blue'),\n",
        "    text=[f\"{i}\" for i in df_jogadores['Grupo_dist_euclidiana']],  # Labels for each point\n",
        "    textposition='top center'  # Position of the text\n",
        "))\n",
        "\n",
        "# Add the second scatter plot (red dots) with labels for each point\n",
        "fig.add_trace(go.Scatter(\n",
        "    x=df_jogadores['Center_Side_A_X'],\n",
        "    y=df_jogadores['Center_Side_A_Y'],\n",
        "    mode='markers+text',  # Use markers and add text labels\n",
        "    name='Centro A',\n",
        "    marker=dict(color='red'),\n",
        "    text=['Centro A'],  # Label for this point\n",
        "    textposition='top center'  # Position of the text\n",
        "))\n",
        "\n",
        "# Add the second scatter plot (red dots) with labels for each point\n",
        "fig.add_trace(go.Scatter(\n",
        "    x=np.array(50),\n",
        "    y=np.array(50),\n",
        "    mode='markers+text',  # Use markers and add text labels\n",
        "    name='Meio do Campo',\n",
        "    marker=dict(color='black'),\n",
        "    text=['Meio do Campo'],  # Label for this point\n",
        "    textposition='top center'  # Position of the text\n",
        "))\n",
        "\n",
        "# Add the third scatter plot (green dots) with labels for each point\n",
        "fig.add_trace(go.Scatter(\n",
        "    x=df_jogadores['Center_Side_B_X'],\n",
        "    y=df_jogadores['Center_Side_B_Y'],\n",
        "    mode='markers+text',  # Use markers and add text labels\n",
        "    name='Centro B',\n",
        "    marker=dict(color='green'),\n",
        "    text=['Centro B'],  # Label for this point\n",
        "    textposition='top center'  # Position of the text\n",
        "))\n",
        "\n",
        "# Add vertical lines at Center_Side_A_X and Center_Side_B_X\n",
        "fig.add_shape(\n",
        "    go.layout.Shape(\n",
        "        type=\"line\",  # Type of shape is a line\n",
        "        x0=df_jogadores['Center_Side_A_X'][0],  # X position for Center A\n",
        "        y0=0,  # Starting y position\n",
        "        x1=df_jogadores['Center_Side_A_X'][0],  # Same x position for the vertical line\n",
        "        y1=max(df_jogadores['Player_Position_Y']),  # Ending y position\n",
        "        line=dict(color=\"red\", dash=\"dash\")  # Line color and style\n",
        "    )\n",
        ")\n",
        "\n",
        "fig.add_shape(\n",
        "    go.layout.Shape(\n",
        "        type=\"line\",  # Type of shape is a line\n",
        "        x0=df_jogadores['Center_Side_B_X'][0],  # X position for Center B\n",
        "        y0=0,  # Starting y position\n",
        "        x1=df_jogadores['Center_Side_B_X'][0],  # Same x position for the vertical line\n",
        "        y1=max(df_jogadores['Player_Position_Y']),  # Ending y position\n",
        "        line=dict(color=\"green\", dash=\"dash\")  # Line color and style\n",
        "    )\n",
        ")\n",
        "\n",
        "fig.add_shape(\n",
        "    go.layout.Shape(\n",
        "        type=\"line\",  # Type of shape is a line\n",
        "        x0=50,  # X position for Center B\n",
        "        y0=0,  # Starting y position\n",
        "        x1=50,  # Same x position for the vertical line\n",
        "        y1=100,  # Ending y position\n",
        "        line=dict(color=\"black\", dash=\"dash\")  # Line color and style\n",
        "    )\n",
        ")\n",
        "\n",
        "\n",
        "\n",
        "# Add title to the plot\n",
        "fig.update_layout(title=\"Posicionamento dos jogadores em campo por Time de acordo com a distância euclidiana\")\n",
        "\n",
        "# Remove background color (make transparent)\n",
        "fig.update_layout(\n",
        "    plot_bgcolor='rgba(0, 0, 0, 0)',  # Transparent background for the plot area\n",
        "    paper_bgcolor='rgba(0, 0, 0, 0)'  # Transparent background for the whole figure\n",
        ")\n",
        "\n",
        "# Show the figure\n",
        "fig.show()\n"
      ]
    },
    {
      "cell_type": "markdown",
      "metadata": {
        "id": "joOsOCUxAvXb"
      },
      "source": [
        "## distância manhattan"
      ]
    },
    {
      "cell_type": "code",
      "execution_count": 21,
      "metadata": {
        "id": "8o7hpKGw_Cyc"
      },
      "outputs": [],
      "source": [
        "# adicionando a coluna do resultado da distancia manhattan\n",
        "df_jogadores['Distancia_manhattan_ca'] = dist_m_ca\n",
        "df_jogadores['Distancia_manhattan_cb'] = dist_m_cb"
      ]
    },
    {
      "cell_type": "code",
      "execution_count": 22,
      "metadata": {
        "id": "19ruIxWMA8j2"
      },
      "outputs": [],
      "source": [
        "# criando os grupos de acordo com a distância\n",
        "def grupo_dist_manhattan(df):\n",
        "  if df['Distancia_manhattan_ca'] < df['Distancia_manhattan_cb']:\n",
        "    return 'Time A'\n",
        "  else:\n",
        "    return 'Time B'\n",
        "\n",
        "df_jogadores['Grupo_dist_manhattan'] = df_jogadores.apply(grupo_dist_manhattan,axis=1)"
      ]
    },
    {
      "cell_type": "code",
      "execution_count": 23,
      "metadata": {
        "colab": {
          "base_uri": "https://localhost:8080/",
          "height": 806
        },
        "id": "vKRK47lmBZkP",
        "outputId": "968a1559-2b72-4ff7-d2cb-6ed323066325"
      },
      "outputs": [
        {
          "data": {
            "text/plain": [
              "Grupo_dist_manhattan  Label_Jogador\n",
              "Time A                Jogador 1        1\n",
              "                      Jogador 10       1\n",
              "                      Jogador 11       1\n",
              "                      Jogador 2        1\n",
              "                      Jogador 3        1\n",
              "                      Jogador 4        1\n",
              "                      Jogador 5        1\n",
              "                      Jogador 6        1\n",
              "                      Jogador 7        1\n",
              "                      Jogador 8        1\n",
              "                      Jogador 9        1\n",
              "Time B                Jogador 12       1\n",
              "                      Jogador 13       1\n",
              "                      Jogador 14       1\n",
              "                      Jogador 15       1\n",
              "                      Jogador 16       1\n",
              "                      Jogador 17       1\n",
              "                      Jogador 18       1\n",
              "                      Jogador 19       1\n",
              "                      Jogador 20       1\n",
              "                      Jogador 21       1\n",
              "                      Jogador 22       1\n",
              "Name: Grupo_dist_manhattan, dtype: int64"
            ]
          },
          "execution_count": 23,
          "metadata": {},
          "output_type": "execute_result"
        }
      ],
      "source": [
        "df_jogadores.groupby(['Grupo_dist_manhattan','Label_Jogador'])['Grupo_dist_manhattan'].count()"
      ]
    },
    {
      "cell_type": "code",
      "execution_count": 24,
      "metadata": {
        "colab": {
          "base_uri": "https://localhost:8080/",
          "height": 542
        },
        "id": "ZwwCGbHXBItP",
        "outputId": "ef6db73c-ee97-4742-b867-905902af6276"
      },
      "outputs": [
        {
          "data": {
            "application/vnd.plotly.v1+json": {
              "config": {
                "plotlyServerURL": "https://plot.ly"
              },
              "data": [
                {
                  "marker": {
                    "color": "blue"
                  },
                  "mode": "markers+text",
                  "name": "Posição dos Jogadores",
                  "text": [
                    "Time A",
                    "Time A",
                    "Time A",
                    "Time A",
                    "Time A",
                    "Time A",
                    "Time A",
                    "Time A",
                    "Time A",
                    "Time A",
                    "Time A",
                    "Time B",
                    "Time B",
                    "Time B",
                    "Time B",
                    "Time B",
                    "Time B",
                    "Time B",
                    "Time B",
                    "Time B",
                    "Time B",
                    "Time B"
                  ],
                  "textposition": "top center",
                  "type": "scatter",
                  "x": {
                    "bdata": "rjNeJfI2IEAJRcK+/FdIQBPTyLWFvT9AYl1LWEtOK0CeqiIYXSIzQG5+rpAPyzBAU7mjAwpFMkD/pPqJ2xAtQEm4nTxe0DBAG8pkkXmsQkDU4as1SVHkP5D/qLhAWUxAT1siNbYQVEB3KCKd0RhUQFO/p0MaCVBAddPk00k1T0DhS1bYhBBMQLZUF5wC5lZAL1O2rFBDTUCJFgFvt0xUQCpAS+HGW1NA2nuAIL0WWEA=",
                    "dtype": "f8"
                  },
                  "y": {
                    "bdata": "/NgXgWe5KkAwrAiPAxRUQE6yl0deN1BAo/L/qJtdVEC4XZMZYfw8QJswpU1wTFhAYeYu0IoiTEAoiwQe9VAyQLjyC8r/qVNAps2CWubkBUBdPN8xvexWQP9SCzN9jFRA1UrRioY0VkBTJfUzbfBTQC1jd1y8dlNAtN8+M1g5UEAdE8IsNJNQQJ7mBzHXYz1Aunc29+vNIkBrq8+uswhYQJZWH2OyPEhAlRdjyoL6S0A=",
                    "dtype": "f8"
                  }
                },
                {
                  "marker": {
                    "color": "red"
                  },
                  "mode": "markers+text",
                  "name": "Centro A",
                  "text": [
                    "Centro A"
                  ],
                  "textposition": "top center",
                  "type": "scatter",
                  "x": {
                    "bdata": "AAAAAAAAOUAAAAAAAAA5QAAAAAAAADlAAAAAAAAAOUAAAAAAAAA5QAAAAAAAAPh/AAAAAAAAOUAAAAAAAAA5QAAAAAAAADlAAAAAAAAAOUAAAAAAAAA5QAAAAAAAADlAAAAAAAAAOUAAAAAAAAA5QAAAAAAAAPh/AAAAAAAAOUAAAAAAAAA5QAAAAAAAADlAAAAAAAAAOUAAAAAAAAA5QAAAAAAAADlAAAAAAAAAOUA=",
                    "dtype": "f8"
                  },
                  "y": {
                    "bdata": "AAAAAAAASUAAAAAAAABJQAAAAAAAAPh/AAAAAAAASUAAAAAAAABJQAAAAAAAAElAAAAAAAAASUAAAAAAAABJQAAAAAAAAElAAAAAAAAASUAAAAAAAABJQAAAAAAAAElAAAAAAAAASUAAAAAAAABJQAAAAAAAAElAAAAAAAAASUAAAAAAAAD4fwAAAAAAAElAAAAAAAAASUAAAAAAAABJQAAAAAAAAElAAAAAAAAASUA=",
                    "dtype": "f8"
                  }
                },
                {
                  "marker": {
                    "color": "black"
                  },
                  "mode": "markers+text",
                  "name": "Meio do Campo",
                  "text": [
                    "Meio do Campo"
                  ],
                  "textposition": "top center",
                  "type": "scatter",
                  "x": {
                    "bdata": "Mg==",
                    "dtype": "i1"
                  },
                  "y": {
                    "bdata": "Mg==",
                    "dtype": "i1"
                  }
                },
                {
                  "marker": {
                    "color": "green"
                  },
                  "mode": "markers+text",
                  "name": "Centro B",
                  "text": [
                    "Centro B"
                  ],
                  "textposition": "top center",
                  "type": "scatter",
                  "x": {
                    "bdata": "S0tLS0tLS0tLS0tLS0tLS0tLS0tLSw==",
                    "dtype": "i1"
                  },
                  "y": {
                    "bdata": "MjIyMjIyMjIyMjIyMjIyMjIyMjIyMg==",
                    "dtype": "i1"
                  }
                }
              ],
              "layout": {
                "paper_bgcolor": "rgba(0, 0, 0, 0)",
                "plot_bgcolor": "rgba(0, 0, 0, 0)",
                "shapes": [
                  {
                    "line": {
                      "color": "red",
                      "dash": "dash"
                    },
                    "type": "line",
                    "x0": 25,
                    "x1": 25,
                    "y0": 0,
                    "y1": 97.19435444957564
                  },
                  {
                    "line": {
                      "color": "green",
                      "dash": "dash"
                    },
                    "type": "line",
                    "x0": 75,
                    "x1": 75,
                    "y0": 0,
                    "y1": 97.19435444957564
                  },
                  {
                    "line": {
                      "color": "black",
                      "dash": "dash"
                    },
                    "type": "line",
                    "x0": 50,
                    "x1": 50,
                    "y0": 0,
                    "y1": 100
                  }
                ],
                "template": {
                  "data": {
                    "bar": [
                      {
                        "error_x": {
                          "color": "#2a3f5f"
                        },
                        "error_y": {
                          "color": "#2a3f5f"
                        },
                        "marker": {
                          "line": {
                            "color": "#E5ECF6",
                            "width": 0.5
                          },
                          "pattern": {
                            "fillmode": "overlay",
                            "size": 10,
                            "solidity": 0.2
                          }
                        },
                        "type": "bar"
                      }
                    ],
                    "barpolar": [
                      {
                        "marker": {
                          "line": {
                            "color": "#E5ECF6",
                            "width": 0.5
                          },
                          "pattern": {
                            "fillmode": "overlay",
                            "size": 10,
                            "solidity": 0.2
                          }
                        },
                        "type": "barpolar"
                      }
                    ],
                    "carpet": [
                      {
                        "aaxis": {
                          "endlinecolor": "#2a3f5f",
                          "gridcolor": "white",
                          "linecolor": "white",
                          "minorgridcolor": "white",
                          "startlinecolor": "#2a3f5f"
                        },
                        "baxis": {
                          "endlinecolor": "#2a3f5f",
                          "gridcolor": "white",
                          "linecolor": "white",
                          "minorgridcolor": "white",
                          "startlinecolor": "#2a3f5f"
                        },
                        "type": "carpet"
                      }
                    ],
                    "choropleth": [
                      {
                        "colorbar": {
                          "outlinewidth": 0,
                          "ticks": ""
                        },
                        "type": "choropleth"
                      }
                    ],
                    "contour": [
                      {
                        "colorbar": {
                          "outlinewidth": 0,
                          "ticks": ""
                        },
                        "colorscale": [
                          [
                            0,
                            "#0d0887"
                          ],
                          [
                            0.1111111111111111,
                            "#46039f"
                          ],
                          [
                            0.2222222222222222,
                            "#7201a8"
                          ],
                          [
                            0.3333333333333333,
                            "#9c179e"
                          ],
                          [
                            0.4444444444444444,
                            "#bd3786"
                          ],
                          [
                            0.5555555555555556,
                            "#d8576b"
                          ],
                          [
                            0.6666666666666666,
                            "#ed7953"
                          ],
                          [
                            0.7777777777777778,
                            "#fb9f3a"
                          ],
                          [
                            0.8888888888888888,
                            "#fdca26"
                          ],
                          [
                            1,
                            "#f0f921"
                          ]
                        ],
                        "type": "contour"
                      }
                    ],
                    "contourcarpet": [
                      {
                        "colorbar": {
                          "outlinewidth": 0,
                          "ticks": ""
                        },
                        "type": "contourcarpet"
                      }
                    ],
                    "heatmap": [
                      {
                        "colorbar": {
                          "outlinewidth": 0,
                          "ticks": ""
                        },
                        "colorscale": [
                          [
                            0,
                            "#0d0887"
                          ],
                          [
                            0.1111111111111111,
                            "#46039f"
                          ],
                          [
                            0.2222222222222222,
                            "#7201a8"
                          ],
                          [
                            0.3333333333333333,
                            "#9c179e"
                          ],
                          [
                            0.4444444444444444,
                            "#bd3786"
                          ],
                          [
                            0.5555555555555556,
                            "#d8576b"
                          ],
                          [
                            0.6666666666666666,
                            "#ed7953"
                          ],
                          [
                            0.7777777777777778,
                            "#fb9f3a"
                          ],
                          [
                            0.8888888888888888,
                            "#fdca26"
                          ],
                          [
                            1,
                            "#f0f921"
                          ]
                        ],
                        "type": "heatmap"
                      }
                    ],
                    "histogram": [
                      {
                        "marker": {
                          "pattern": {
                            "fillmode": "overlay",
                            "size": 10,
                            "solidity": 0.2
                          }
                        },
                        "type": "histogram"
                      }
                    ],
                    "histogram2d": [
                      {
                        "colorbar": {
                          "outlinewidth": 0,
                          "ticks": ""
                        },
                        "colorscale": [
                          [
                            0,
                            "#0d0887"
                          ],
                          [
                            0.1111111111111111,
                            "#46039f"
                          ],
                          [
                            0.2222222222222222,
                            "#7201a8"
                          ],
                          [
                            0.3333333333333333,
                            "#9c179e"
                          ],
                          [
                            0.4444444444444444,
                            "#bd3786"
                          ],
                          [
                            0.5555555555555556,
                            "#d8576b"
                          ],
                          [
                            0.6666666666666666,
                            "#ed7953"
                          ],
                          [
                            0.7777777777777778,
                            "#fb9f3a"
                          ],
                          [
                            0.8888888888888888,
                            "#fdca26"
                          ],
                          [
                            1,
                            "#f0f921"
                          ]
                        ],
                        "type": "histogram2d"
                      }
                    ],
                    "histogram2dcontour": [
                      {
                        "colorbar": {
                          "outlinewidth": 0,
                          "ticks": ""
                        },
                        "colorscale": [
                          [
                            0,
                            "#0d0887"
                          ],
                          [
                            0.1111111111111111,
                            "#46039f"
                          ],
                          [
                            0.2222222222222222,
                            "#7201a8"
                          ],
                          [
                            0.3333333333333333,
                            "#9c179e"
                          ],
                          [
                            0.4444444444444444,
                            "#bd3786"
                          ],
                          [
                            0.5555555555555556,
                            "#d8576b"
                          ],
                          [
                            0.6666666666666666,
                            "#ed7953"
                          ],
                          [
                            0.7777777777777778,
                            "#fb9f3a"
                          ],
                          [
                            0.8888888888888888,
                            "#fdca26"
                          ],
                          [
                            1,
                            "#f0f921"
                          ]
                        ],
                        "type": "histogram2dcontour"
                      }
                    ],
                    "mesh3d": [
                      {
                        "colorbar": {
                          "outlinewidth": 0,
                          "ticks": ""
                        },
                        "type": "mesh3d"
                      }
                    ],
                    "parcoords": [
                      {
                        "line": {
                          "colorbar": {
                            "outlinewidth": 0,
                            "ticks": ""
                          }
                        },
                        "type": "parcoords"
                      }
                    ],
                    "pie": [
                      {
                        "automargin": true,
                        "type": "pie"
                      }
                    ],
                    "scatter": [
                      {
                        "fillpattern": {
                          "fillmode": "overlay",
                          "size": 10,
                          "solidity": 0.2
                        },
                        "type": "scatter"
                      }
                    ],
                    "scatter3d": [
                      {
                        "line": {
                          "colorbar": {
                            "outlinewidth": 0,
                            "ticks": ""
                          }
                        },
                        "marker": {
                          "colorbar": {
                            "outlinewidth": 0,
                            "ticks": ""
                          }
                        },
                        "type": "scatter3d"
                      }
                    ],
                    "scattercarpet": [
                      {
                        "marker": {
                          "colorbar": {
                            "outlinewidth": 0,
                            "ticks": ""
                          }
                        },
                        "type": "scattercarpet"
                      }
                    ],
                    "scattergeo": [
                      {
                        "marker": {
                          "colorbar": {
                            "outlinewidth": 0,
                            "ticks": ""
                          }
                        },
                        "type": "scattergeo"
                      }
                    ],
                    "scattergl": [
                      {
                        "marker": {
                          "colorbar": {
                            "outlinewidth": 0,
                            "ticks": ""
                          }
                        },
                        "type": "scattergl"
                      }
                    ],
                    "scattermap": [
                      {
                        "marker": {
                          "colorbar": {
                            "outlinewidth": 0,
                            "ticks": ""
                          }
                        },
                        "type": "scattermap"
                      }
                    ],
                    "scattermapbox": [
                      {
                        "marker": {
                          "colorbar": {
                            "outlinewidth": 0,
                            "ticks": ""
                          }
                        },
                        "type": "scattermapbox"
                      }
                    ],
                    "scatterpolar": [
                      {
                        "marker": {
                          "colorbar": {
                            "outlinewidth": 0,
                            "ticks": ""
                          }
                        },
                        "type": "scatterpolar"
                      }
                    ],
                    "scatterpolargl": [
                      {
                        "marker": {
                          "colorbar": {
                            "outlinewidth": 0,
                            "ticks": ""
                          }
                        },
                        "type": "scatterpolargl"
                      }
                    ],
                    "scatterternary": [
                      {
                        "marker": {
                          "colorbar": {
                            "outlinewidth": 0,
                            "ticks": ""
                          }
                        },
                        "type": "scatterternary"
                      }
                    ],
                    "surface": [
                      {
                        "colorbar": {
                          "outlinewidth": 0,
                          "ticks": ""
                        },
                        "colorscale": [
                          [
                            0,
                            "#0d0887"
                          ],
                          [
                            0.1111111111111111,
                            "#46039f"
                          ],
                          [
                            0.2222222222222222,
                            "#7201a8"
                          ],
                          [
                            0.3333333333333333,
                            "#9c179e"
                          ],
                          [
                            0.4444444444444444,
                            "#bd3786"
                          ],
                          [
                            0.5555555555555556,
                            "#d8576b"
                          ],
                          [
                            0.6666666666666666,
                            "#ed7953"
                          ],
                          [
                            0.7777777777777778,
                            "#fb9f3a"
                          ],
                          [
                            0.8888888888888888,
                            "#fdca26"
                          ],
                          [
                            1,
                            "#f0f921"
                          ]
                        ],
                        "type": "surface"
                      }
                    ],
                    "table": [
                      {
                        "cells": {
                          "fill": {
                            "color": "#EBF0F8"
                          },
                          "line": {
                            "color": "white"
                          }
                        },
                        "header": {
                          "fill": {
                            "color": "#C8D4E3"
                          },
                          "line": {
                            "color": "white"
                          }
                        },
                        "type": "table"
                      }
                    ]
                  },
                  "layout": {
                    "annotationdefaults": {
                      "arrowcolor": "#2a3f5f",
                      "arrowhead": 0,
                      "arrowwidth": 1
                    },
                    "autotypenumbers": "strict",
                    "coloraxis": {
                      "colorbar": {
                        "outlinewidth": 0,
                        "ticks": ""
                      }
                    },
                    "colorscale": {
                      "diverging": [
                        [
                          0,
                          "#8e0152"
                        ],
                        [
                          0.1,
                          "#c51b7d"
                        ],
                        [
                          0.2,
                          "#de77ae"
                        ],
                        [
                          0.3,
                          "#f1b6da"
                        ],
                        [
                          0.4,
                          "#fde0ef"
                        ],
                        [
                          0.5,
                          "#f7f7f7"
                        ],
                        [
                          0.6,
                          "#e6f5d0"
                        ],
                        [
                          0.7,
                          "#b8e186"
                        ],
                        [
                          0.8,
                          "#7fbc41"
                        ],
                        [
                          0.9,
                          "#4d9221"
                        ],
                        [
                          1,
                          "#276419"
                        ]
                      ],
                      "sequential": [
                        [
                          0,
                          "#0d0887"
                        ],
                        [
                          0.1111111111111111,
                          "#46039f"
                        ],
                        [
                          0.2222222222222222,
                          "#7201a8"
                        ],
                        [
                          0.3333333333333333,
                          "#9c179e"
                        ],
                        [
                          0.4444444444444444,
                          "#bd3786"
                        ],
                        [
                          0.5555555555555556,
                          "#d8576b"
                        ],
                        [
                          0.6666666666666666,
                          "#ed7953"
                        ],
                        [
                          0.7777777777777778,
                          "#fb9f3a"
                        ],
                        [
                          0.8888888888888888,
                          "#fdca26"
                        ],
                        [
                          1,
                          "#f0f921"
                        ]
                      ],
                      "sequentialminus": [
                        [
                          0,
                          "#0d0887"
                        ],
                        [
                          0.1111111111111111,
                          "#46039f"
                        ],
                        [
                          0.2222222222222222,
                          "#7201a8"
                        ],
                        [
                          0.3333333333333333,
                          "#9c179e"
                        ],
                        [
                          0.4444444444444444,
                          "#bd3786"
                        ],
                        [
                          0.5555555555555556,
                          "#d8576b"
                        ],
                        [
                          0.6666666666666666,
                          "#ed7953"
                        ],
                        [
                          0.7777777777777778,
                          "#fb9f3a"
                        ],
                        [
                          0.8888888888888888,
                          "#fdca26"
                        ],
                        [
                          1,
                          "#f0f921"
                        ]
                      ]
                    },
                    "colorway": [
                      "#636efa",
                      "#EF553B",
                      "#00cc96",
                      "#ab63fa",
                      "#FFA15A",
                      "#19d3f3",
                      "#FF6692",
                      "#B6E880",
                      "#FF97FF",
                      "#FECB52"
                    ],
                    "font": {
                      "color": "#2a3f5f"
                    },
                    "geo": {
                      "bgcolor": "white",
                      "lakecolor": "white",
                      "landcolor": "#E5ECF6",
                      "showlakes": true,
                      "showland": true,
                      "subunitcolor": "white"
                    },
                    "hoverlabel": {
                      "align": "left"
                    },
                    "hovermode": "closest",
                    "mapbox": {
                      "style": "light"
                    },
                    "paper_bgcolor": "white",
                    "plot_bgcolor": "#E5ECF6",
                    "polar": {
                      "angularaxis": {
                        "gridcolor": "white",
                        "linecolor": "white",
                        "ticks": ""
                      },
                      "bgcolor": "#E5ECF6",
                      "radialaxis": {
                        "gridcolor": "white",
                        "linecolor": "white",
                        "ticks": ""
                      }
                    },
                    "scene": {
                      "xaxis": {
                        "backgroundcolor": "#E5ECF6",
                        "gridcolor": "white",
                        "gridwidth": 2,
                        "linecolor": "white",
                        "showbackground": true,
                        "ticks": "",
                        "zerolinecolor": "white"
                      },
                      "yaxis": {
                        "backgroundcolor": "#E5ECF6",
                        "gridcolor": "white",
                        "gridwidth": 2,
                        "linecolor": "white",
                        "showbackground": true,
                        "ticks": "",
                        "zerolinecolor": "white"
                      },
                      "zaxis": {
                        "backgroundcolor": "#E5ECF6",
                        "gridcolor": "white",
                        "gridwidth": 2,
                        "linecolor": "white",
                        "showbackground": true,
                        "ticks": "",
                        "zerolinecolor": "white"
                      }
                    },
                    "shapedefaults": {
                      "line": {
                        "color": "#2a3f5f"
                      }
                    },
                    "ternary": {
                      "aaxis": {
                        "gridcolor": "white",
                        "linecolor": "white",
                        "ticks": ""
                      },
                      "baxis": {
                        "gridcolor": "white",
                        "linecolor": "white",
                        "ticks": ""
                      },
                      "bgcolor": "#E5ECF6",
                      "caxis": {
                        "gridcolor": "white",
                        "linecolor": "white",
                        "ticks": ""
                      }
                    },
                    "title": {
                      "x": 0.05
                    },
                    "xaxis": {
                      "automargin": true,
                      "gridcolor": "white",
                      "linecolor": "white",
                      "ticks": "",
                      "title": {
                        "standoff": 15
                      },
                      "zerolinecolor": "white",
                      "zerolinewidth": 2
                    },
                    "yaxis": {
                      "automargin": true,
                      "gridcolor": "white",
                      "linecolor": "white",
                      "ticks": "",
                      "title": {
                        "standoff": 15
                      },
                      "zerolinecolor": "white",
                      "zerolinewidth": 2
                    }
                  }
                },
                "title": {
                  "text": "Posicionamento dos jogadores em campo por Time de acordo com a distância manhattan"
                }
              }
            }
          },
          "metadata": {},
          "output_type": "display_data"
        }
      ],
      "source": [
        "# visualizando os dados\n",
        "\n",
        "# Create the figure\n",
        "fig = go.Figure()\n",
        "\n",
        "# Add the first scatter plot (blue dots) with labels for each point\n",
        "fig.add_trace(go.Scatter(\n",
        "    x=df_jogadores['Player_Position_X'],\n",
        "    y=df_jogadores['Player_Position_Y'],\n",
        "    mode='markers+text',  # Use markers and add text labels\n",
        "    name='Posição dos Jogadores',\n",
        "    marker=dict(color='blue'),\n",
        "    text=[f\"{i}\" for i in df_jogadores['Grupo_dist_manhattan']],  # Labels for each point\n",
        "    textposition='top center'  # Position of the text\n",
        "))\n",
        "\n",
        "# Add the second scatter plot (red dots) with labels for each point\n",
        "fig.add_trace(go.Scatter(\n",
        "    x=df_jogadores['Center_Side_A_X'],\n",
        "    y=df_jogadores['Center_Side_A_Y'],\n",
        "    mode='markers+text',  # Use markers and add text labels\n",
        "    name='Centro A',\n",
        "    marker=dict(color='red'),\n",
        "    text=['Centro A'],  # Label for this point\n",
        "    textposition='top center'  # Position of the text\n",
        "))\n",
        "\n",
        "# Add the second scatter plot (red dots) with labels for each point\n",
        "fig.add_trace(go.Scatter(\n",
        "    x=np.array(50),\n",
        "    y=np.array(50),\n",
        "    mode='markers+text',  # Use markers and add text labels\n",
        "    name='Meio do Campo',\n",
        "    marker=dict(color='black'),\n",
        "    text=['Meio do Campo'],  # Label for this point\n",
        "    textposition='top center'  # Position of the text\n",
        "))\n",
        "\n",
        "# Add the third scatter plot (green dots) with labels for each point\n",
        "fig.add_trace(go.Scatter(\n",
        "    x=df_jogadores['Center_Side_B_X'],\n",
        "    y=df_jogadores['Center_Side_B_Y'],\n",
        "    mode='markers+text',  # Use markers and add text labels\n",
        "    name='Centro B',\n",
        "    marker=dict(color='green'),\n",
        "    text=['Centro B'],  # Label for this point\n",
        "    textposition='top center'  # Position of the text\n",
        "))\n",
        "\n",
        "# Add vertical lines at Center_Side_A_X and Center_Side_B_X\n",
        "fig.add_shape(\n",
        "    go.layout.Shape(\n",
        "        type=\"line\",  # Type of shape is a line\n",
        "        x0=df_jogadores['Center_Side_A_X'][0],  # X position for Center A\n",
        "        y0=0,  # Starting y position\n",
        "        x1=df_jogadores['Center_Side_A_X'][0],  # Same x position for the vertical line\n",
        "        y1=max(df_jogadores['Player_Position_Y']),  # Ending y position\n",
        "        line=dict(color=\"red\", dash=\"dash\")  # Line color and style\n",
        "    )\n",
        ")\n",
        "\n",
        "fig.add_shape(\n",
        "    go.layout.Shape(\n",
        "        type=\"line\",  # Type of shape is a line\n",
        "        x0=df_jogadores['Center_Side_B_X'][0],  # X position for Center B\n",
        "        y0=0,  # Starting y position\n",
        "        x1=df_jogadores['Center_Side_B_X'][0],  # Same x position for the vertical line\n",
        "        y1=max(df_jogadores['Player_Position_Y']),  # Ending y position\n",
        "        line=dict(color=\"green\", dash=\"dash\")  # Line color and style\n",
        "    )\n",
        ")\n",
        "\n",
        "fig.add_shape(\n",
        "    go.layout.Shape(\n",
        "        type=\"line\",  # Type of shape is a line\n",
        "        x0=50,  # X position for Center B\n",
        "        y0=0,  # Starting y position\n",
        "        x1=50,  # Same x position for the vertical line\n",
        "        y1=100,  # Ending y position\n",
        "        line=dict(color=\"black\", dash=\"dash\")  # Line color and style\n",
        "    )\n",
        ")\n",
        "\n",
        "\n",
        "\n",
        "# Add title to the plot\n",
        "fig.update_layout(title=\"Posicionamento dos jogadores em campo por Time de acordo com a distância manhattan\")\n",
        "\n",
        "# Remove background color (make transparent)\n",
        "fig.update_layout(\n",
        "    plot_bgcolor='rgba(0, 0, 0, 0)',  # Transparent background for the plot area\n",
        "    paper_bgcolor='rgba(0, 0, 0, 0)'  # Transparent background for the whole figure\n",
        ")\n",
        "\n",
        "# Show the figure\n",
        "fig.show()\n"
      ]
    },
    {
      "cell_type": "markdown",
      "metadata": {
        "id": "NNyX0l2GBqtB"
      },
      "source": [
        "## distância chebyshev"
      ]
    },
    {
      "cell_type": "code",
      "execution_count": 25,
      "metadata": {
        "id": "GpWVTypoBNyB"
      },
      "outputs": [],
      "source": [
        "# adicionando a coluna do resultado da distancia chebyshev\n",
        "df_jogadores['Distancia_cheb_ca'] = dist_c_ca\n",
        "df_jogadores['Distancia_cheb_cb'] = dist_c_cb"
      ]
    },
    {
      "cell_type": "code",
      "execution_count": 26,
      "metadata": {
        "id": "fYhVpRS5B3wa"
      },
      "outputs": [],
      "source": [
        "# criando os grupos de acordo com a distância\n",
        "def grupo_dist_cheb(df):\n",
        "  if df['Distancia_cheb_ca'] < df['Distancia_cheb_cb']:\n",
        "    return 'Time A'\n",
        "  else:\n",
        "    return 'Time B'\n",
        "\n",
        "df_jogadores['Grupo_dist_cheb'] = df_jogadores.apply(grupo_dist_cheb,axis=1)"
      ]
    },
    {
      "cell_type": "code",
      "execution_count": 27,
      "metadata": {
        "colab": {
          "base_uri": "https://localhost:8080/",
          "height": 806
        },
        "id": "vHU5JILEECPB",
        "outputId": "97b3c1c7-b977-4fad-ea05-6bfc36919dcf"
      },
      "outputs": [
        {
          "data": {
            "text/plain": [
              "Grupo_dist_cheb  Label_Jogador\n",
              "Time A           Jogador 1        1\n",
              "                 Jogador 11       1\n",
              "                 Jogador 3        1\n",
              "                 Jogador 4        1\n",
              "                 Jogador 5        1\n",
              "                 Jogador 6        1\n",
              "                 Jogador 7        1\n",
              "                 Jogador 8        1\n",
              "                 Jogador 9        1\n",
              "Time B           Jogador 10       1\n",
              "                 Jogador 12       1\n",
              "                 Jogador 13       1\n",
              "                 Jogador 14       1\n",
              "                 Jogador 15       1\n",
              "                 Jogador 16       1\n",
              "                 Jogador 17       1\n",
              "                 Jogador 18       1\n",
              "                 Jogador 19       1\n",
              "                 Jogador 2        1\n",
              "                 Jogador 20       1\n",
              "                 Jogador 21       1\n",
              "                 Jogador 22       1\n",
              "Name: Grupo_dist_cheb, dtype: int64"
            ]
          },
          "execution_count": 27,
          "metadata": {},
          "output_type": "execute_result"
        }
      ],
      "source": [
        "df_jogadores.groupby(['Grupo_dist_cheb','Label_Jogador'])['Grupo_dist_cheb'].count()"
      ]
    },
    {
      "cell_type": "code",
      "execution_count": 28,
      "metadata": {
        "colab": {
          "base_uri": "https://localhost:8080/",
          "height": 542
        },
        "id": "4Y-HSodVCExR",
        "outputId": "17e3b0a4-f3a9-4d97-d9cc-7b890e712405"
      },
      "outputs": [
        {
          "data": {
            "application/vnd.plotly.v1+json": {
              "config": {
                "plotlyServerURL": "https://plot.ly"
              },
              "data": [
                {
                  "marker": {
                    "color": "blue"
                  },
                  "mode": "markers+text",
                  "name": "Posição dos Jogadores",
                  "text": [
                    "Time A",
                    "Time B",
                    "Time A",
                    "Time A",
                    "Time A",
                    "Time A",
                    "Time A",
                    "Time A",
                    "Time A",
                    "Time B",
                    "Time A",
                    "Time B",
                    "Time B",
                    "Time B",
                    "Time B",
                    "Time B",
                    "Time B",
                    "Time B",
                    "Time B",
                    "Time B",
                    "Time B",
                    "Time B"
                  ],
                  "textposition": "top center",
                  "type": "scatter",
                  "x": {
                    "bdata": "rjNeJfI2IEAJRcK+/FdIQBPTyLWFvT9AYl1LWEtOK0CeqiIYXSIzQG5+rpAPyzBAU7mjAwpFMkD/pPqJ2xAtQEm4nTxe0DBAG8pkkXmsQkDU4as1SVHkP5D/qLhAWUxAT1siNbYQVEB3KCKd0RhUQFO/p0MaCVBAddPk00k1T0DhS1bYhBBMQLZUF5wC5lZAL1O2rFBDTUCJFgFvt0xUQCpAS+HGW1NA2nuAIL0WWEA=",
                    "dtype": "f8"
                  },
                  "y": {
                    "bdata": "/NgXgWe5KkAwrAiPAxRUQE6yl0deN1BAo/L/qJtdVEC4XZMZYfw8QJswpU1wTFhAYeYu0IoiTEAoiwQe9VAyQLjyC8r/qVNAps2CWubkBUBdPN8xvexWQP9SCzN9jFRA1UrRioY0VkBTJfUzbfBTQC1jd1y8dlNAtN8+M1g5UEAdE8IsNJNQQJ7mBzHXYz1Aunc29+vNIkBrq8+uswhYQJZWH2OyPEhAlRdjyoL6S0A=",
                    "dtype": "f8"
                  }
                },
                {
                  "marker": {
                    "color": "red"
                  },
                  "mode": "markers+text",
                  "name": "Centro A",
                  "text": [
                    "Centro A"
                  ],
                  "textposition": "top center",
                  "type": "scatter",
                  "x": {
                    "bdata": "AAAAAAAAOUAAAAAAAAA5QAAAAAAAADlAAAAAAAAAOUAAAAAAAAA5QAAAAAAAAPh/AAAAAAAAOUAAAAAAAAA5QAAAAAAAADlAAAAAAAAAOUAAAAAAAAA5QAAAAAAAADlAAAAAAAAAOUAAAAAAAAA5QAAAAAAAAPh/AAAAAAAAOUAAAAAAAAA5QAAAAAAAADlAAAAAAAAAOUAAAAAAAAA5QAAAAAAAADlAAAAAAAAAOUA=",
                    "dtype": "f8"
                  },
                  "y": {
                    "bdata": "AAAAAAAASUAAAAAAAABJQAAAAAAAAPh/AAAAAAAASUAAAAAAAABJQAAAAAAAAElAAAAAAAAASUAAAAAAAABJQAAAAAAAAElAAAAAAAAASUAAAAAAAABJQAAAAAAAAElAAAAAAAAASUAAAAAAAABJQAAAAAAAAElAAAAAAAAASUAAAAAAAAD4fwAAAAAAAElAAAAAAAAASUAAAAAAAABJQAAAAAAAAElAAAAAAAAASUA=",
                    "dtype": "f8"
                  }
                },
                {
                  "marker": {
                    "color": "black"
                  },
                  "mode": "markers+text",
                  "name": "Meio do Campo",
                  "text": [
                    "Meio do Campo"
                  ],
                  "textposition": "top center",
                  "type": "scatter",
                  "x": {
                    "bdata": "Mg==",
                    "dtype": "i1"
                  },
                  "y": {
                    "bdata": "Mg==",
                    "dtype": "i1"
                  }
                },
                {
                  "marker": {
                    "color": "green"
                  },
                  "mode": "markers+text",
                  "name": "Centro B",
                  "text": [
                    "Centro B"
                  ],
                  "textposition": "top center",
                  "type": "scatter",
                  "x": {
                    "bdata": "S0tLS0tLS0tLS0tLS0tLS0tLS0tLSw==",
                    "dtype": "i1"
                  },
                  "y": {
                    "bdata": "MjIyMjIyMjIyMjIyMjIyMjIyMjIyMg==",
                    "dtype": "i1"
                  }
                }
              ],
              "layout": {
                "paper_bgcolor": "rgba(0, 0, 0, 0)",
                "plot_bgcolor": "rgba(0, 0, 0, 0)",
                "shapes": [
                  {
                    "line": {
                      "color": "red",
                      "dash": "dash"
                    },
                    "type": "line",
                    "x0": 25,
                    "x1": 25,
                    "y0": 0,
                    "y1": 97.19435444957564
                  },
                  {
                    "line": {
                      "color": "green",
                      "dash": "dash"
                    },
                    "type": "line",
                    "x0": 75,
                    "x1": 75,
                    "y0": 0,
                    "y1": 97.19435444957564
                  },
                  {
                    "line": {
                      "color": "black",
                      "dash": "dash"
                    },
                    "type": "line",
                    "x0": 50,
                    "x1": 50,
                    "y0": 0,
                    "y1": 100
                  }
                ],
                "template": {
                  "data": {
                    "bar": [
                      {
                        "error_x": {
                          "color": "#2a3f5f"
                        },
                        "error_y": {
                          "color": "#2a3f5f"
                        },
                        "marker": {
                          "line": {
                            "color": "#E5ECF6",
                            "width": 0.5
                          },
                          "pattern": {
                            "fillmode": "overlay",
                            "size": 10,
                            "solidity": 0.2
                          }
                        },
                        "type": "bar"
                      }
                    ],
                    "barpolar": [
                      {
                        "marker": {
                          "line": {
                            "color": "#E5ECF6",
                            "width": 0.5
                          },
                          "pattern": {
                            "fillmode": "overlay",
                            "size": 10,
                            "solidity": 0.2
                          }
                        },
                        "type": "barpolar"
                      }
                    ],
                    "carpet": [
                      {
                        "aaxis": {
                          "endlinecolor": "#2a3f5f",
                          "gridcolor": "white",
                          "linecolor": "white",
                          "minorgridcolor": "white",
                          "startlinecolor": "#2a3f5f"
                        },
                        "baxis": {
                          "endlinecolor": "#2a3f5f",
                          "gridcolor": "white",
                          "linecolor": "white",
                          "minorgridcolor": "white",
                          "startlinecolor": "#2a3f5f"
                        },
                        "type": "carpet"
                      }
                    ],
                    "choropleth": [
                      {
                        "colorbar": {
                          "outlinewidth": 0,
                          "ticks": ""
                        },
                        "type": "choropleth"
                      }
                    ],
                    "contour": [
                      {
                        "colorbar": {
                          "outlinewidth": 0,
                          "ticks": ""
                        },
                        "colorscale": [
                          [
                            0,
                            "#0d0887"
                          ],
                          [
                            0.1111111111111111,
                            "#46039f"
                          ],
                          [
                            0.2222222222222222,
                            "#7201a8"
                          ],
                          [
                            0.3333333333333333,
                            "#9c179e"
                          ],
                          [
                            0.4444444444444444,
                            "#bd3786"
                          ],
                          [
                            0.5555555555555556,
                            "#d8576b"
                          ],
                          [
                            0.6666666666666666,
                            "#ed7953"
                          ],
                          [
                            0.7777777777777778,
                            "#fb9f3a"
                          ],
                          [
                            0.8888888888888888,
                            "#fdca26"
                          ],
                          [
                            1,
                            "#f0f921"
                          ]
                        ],
                        "type": "contour"
                      }
                    ],
                    "contourcarpet": [
                      {
                        "colorbar": {
                          "outlinewidth": 0,
                          "ticks": ""
                        },
                        "type": "contourcarpet"
                      }
                    ],
                    "heatmap": [
                      {
                        "colorbar": {
                          "outlinewidth": 0,
                          "ticks": ""
                        },
                        "colorscale": [
                          [
                            0,
                            "#0d0887"
                          ],
                          [
                            0.1111111111111111,
                            "#46039f"
                          ],
                          [
                            0.2222222222222222,
                            "#7201a8"
                          ],
                          [
                            0.3333333333333333,
                            "#9c179e"
                          ],
                          [
                            0.4444444444444444,
                            "#bd3786"
                          ],
                          [
                            0.5555555555555556,
                            "#d8576b"
                          ],
                          [
                            0.6666666666666666,
                            "#ed7953"
                          ],
                          [
                            0.7777777777777778,
                            "#fb9f3a"
                          ],
                          [
                            0.8888888888888888,
                            "#fdca26"
                          ],
                          [
                            1,
                            "#f0f921"
                          ]
                        ],
                        "type": "heatmap"
                      }
                    ],
                    "histogram": [
                      {
                        "marker": {
                          "pattern": {
                            "fillmode": "overlay",
                            "size": 10,
                            "solidity": 0.2
                          }
                        },
                        "type": "histogram"
                      }
                    ],
                    "histogram2d": [
                      {
                        "colorbar": {
                          "outlinewidth": 0,
                          "ticks": ""
                        },
                        "colorscale": [
                          [
                            0,
                            "#0d0887"
                          ],
                          [
                            0.1111111111111111,
                            "#46039f"
                          ],
                          [
                            0.2222222222222222,
                            "#7201a8"
                          ],
                          [
                            0.3333333333333333,
                            "#9c179e"
                          ],
                          [
                            0.4444444444444444,
                            "#bd3786"
                          ],
                          [
                            0.5555555555555556,
                            "#d8576b"
                          ],
                          [
                            0.6666666666666666,
                            "#ed7953"
                          ],
                          [
                            0.7777777777777778,
                            "#fb9f3a"
                          ],
                          [
                            0.8888888888888888,
                            "#fdca26"
                          ],
                          [
                            1,
                            "#f0f921"
                          ]
                        ],
                        "type": "histogram2d"
                      }
                    ],
                    "histogram2dcontour": [
                      {
                        "colorbar": {
                          "outlinewidth": 0,
                          "ticks": ""
                        },
                        "colorscale": [
                          [
                            0,
                            "#0d0887"
                          ],
                          [
                            0.1111111111111111,
                            "#46039f"
                          ],
                          [
                            0.2222222222222222,
                            "#7201a8"
                          ],
                          [
                            0.3333333333333333,
                            "#9c179e"
                          ],
                          [
                            0.4444444444444444,
                            "#bd3786"
                          ],
                          [
                            0.5555555555555556,
                            "#d8576b"
                          ],
                          [
                            0.6666666666666666,
                            "#ed7953"
                          ],
                          [
                            0.7777777777777778,
                            "#fb9f3a"
                          ],
                          [
                            0.8888888888888888,
                            "#fdca26"
                          ],
                          [
                            1,
                            "#f0f921"
                          ]
                        ],
                        "type": "histogram2dcontour"
                      }
                    ],
                    "mesh3d": [
                      {
                        "colorbar": {
                          "outlinewidth": 0,
                          "ticks": ""
                        },
                        "type": "mesh3d"
                      }
                    ],
                    "parcoords": [
                      {
                        "line": {
                          "colorbar": {
                            "outlinewidth": 0,
                            "ticks": ""
                          }
                        },
                        "type": "parcoords"
                      }
                    ],
                    "pie": [
                      {
                        "automargin": true,
                        "type": "pie"
                      }
                    ],
                    "scatter": [
                      {
                        "fillpattern": {
                          "fillmode": "overlay",
                          "size": 10,
                          "solidity": 0.2
                        },
                        "type": "scatter"
                      }
                    ],
                    "scatter3d": [
                      {
                        "line": {
                          "colorbar": {
                            "outlinewidth": 0,
                            "ticks": ""
                          }
                        },
                        "marker": {
                          "colorbar": {
                            "outlinewidth": 0,
                            "ticks": ""
                          }
                        },
                        "type": "scatter3d"
                      }
                    ],
                    "scattercarpet": [
                      {
                        "marker": {
                          "colorbar": {
                            "outlinewidth": 0,
                            "ticks": ""
                          }
                        },
                        "type": "scattercarpet"
                      }
                    ],
                    "scattergeo": [
                      {
                        "marker": {
                          "colorbar": {
                            "outlinewidth": 0,
                            "ticks": ""
                          }
                        },
                        "type": "scattergeo"
                      }
                    ],
                    "scattergl": [
                      {
                        "marker": {
                          "colorbar": {
                            "outlinewidth": 0,
                            "ticks": ""
                          }
                        },
                        "type": "scattergl"
                      }
                    ],
                    "scattermap": [
                      {
                        "marker": {
                          "colorbar": {
                            "outlinewidth": 0,
                            "ticks": ""
                          }
                        },
                        "type": "scattermap"
                      }
                    ],
                    "scattermapbox": [
                      {
                        "marker": {
                          "colorbar": {
                            "outlinewidth": 0,
                            "ticks": ""
                          }
                        },
                        "type": "scattermapbox"
                      }
                    ],
                    "scatterpolar": [
                      {
                        "marker": {
                          "colorbar": {
                            "outlinewidth": 0,
                            "ticks": ""
                          }
                        },
                        "type": "scatterpolar"
                      }
                    ],
                    "scatterpolargl": [
                      {
                        "marker": {
                          "colorbar": {
                            "outlinewidth": 0,
                            "ticks": ""
                          }
                        },
                        "type": "scatterpolargl"
                      }
                    ],
                    "scatterternary": [
                      {
                        "marker": {
                          "colorbar": {
                            "outlinewidth": 0,
                            "ticks": ""
                          }
                        },
                        "type": "scatterternary"
                      }
                    ],
                    "surface": [
                      {
                        "colorbar": {
                          "outlinewidth": 0,
                          "ticks": ""
                        },
                        "colorscale": [
                          [
                            0,
                            "#0d0887"
                          ],
                          [
                            0.1111111111111111,
                            "#46039f"
                          ],
                          [
                            0.2222222222222222,
                            "#7201a8"
                          ],
                          [
                            0.3333333333333333,
                            "#9c179e"
                          ],
                          [
                            0.4444444444444444,
                            "#bd3786"
                          ],
                          [
                            0.5555555555555556,
                            "#d8576b"
                          ],
                          [
                            0.6666666666666666,
                            "#ed7953"
                          ],
                          [
                            0.7777777777777778,
                            "#fb9f3a"
                          ],
                          [
                            0.8888888888888888,
                            "#fdca26"
                          ],
                          [
                            1,
                            "#f0f921"
                          ]
                        ],
                        "type": "surface"
                      }
                    ],
                    "table": [
                      {
                        "cells": {
                          "fill": {
                            "color": "#EBF0F8"
                          },
                          "line": {
                            "color": "white"
                          }
                        },
                        "header": {
                          "fill": {
                            "color": "#C8D4E3"
                          },
                          "line": {
                            "color": "white"
                          }
                        },
                        "type": "table"
                      }
                    ]
                  },
                  "layout": {
                    "annotationdefaults": {
                      "arrowcolor": "#2a3f5f",
                      "arrowhead": 0,
                      "arrowwidth": 1
                    },
                    "autotypenumbers": "strict",
                    "coloraxis": {
                      "colorbar": {
                        "outlinewidth": 0,
                        "ticks": ""
                      }
                    },
                    "colorscale": {
                      "diverging": [
                        [
                          0,
                          "#8e0152"
                        ],
                        [
                          0.1,
                          "#c51b7d"
                        ],
                        [
                          0.2,
                          "#de77ae"
                        ],
                        [
                          0.3,
                          "#f1b6da"
                        ],
                        [
                          0.4,
                          "#fde0ef"
                        ],
                        [
                          0.5,
                          "#f7f7f7"
                        ],
                        [
                          0.6,
                          "#e6f5d0"
                        ],
                        [
                          0.7,
                          "#b8e186"
                        ],
                        [
                          0.8,
                          "#7fbc41"
                        ],
                        [
                          0.9,
                          "#4d9221"
                        ],
                        [
                          1,
                          "#276419"
                        ]
                      ],
                      "sequential": [
                        [
                          0,
                          "#0d0887"
                        ],
                        [
                          0.1111111111111111,
                          "#46039f"
                        ],
                        [
                          0.2222222222222222,
                          "#7201a8"
                        ],
                        [
                          0.3333333333333333,
                          "#9c179e"
                        ],
                        [
                          0.4444444444444444,
                          "#bd3786"
                        ],
                        [
                          0.5555555555555556,
                          "#d8576b"
                        ],
                        [
                          0.6666666666666666,
                          "#ed7953"
                        ],
                        [
                          0.7777777777777778,
                          "#fb9f3a"
                        ],
                        [
                          0.8888888888888888,
                          "#fdca26"
                        ],
                        [
                          1,
                          "#f0f921"
                        ]
                      ],
                      "sequentialminus": [
                        [
                          0,
                          "#0d0887"
                        ],
                        [
                          0.1111111111111111,
                          "#46039f"
                        ],
                        [
                          0.2222222222222222,
                          "#7201a8"
                        ],
                        [
                          0.3333333333333333,
                          "#9c179e"
                        ],
                        [
                          0.4444444444444444,
                          "#bd3786"
                        ],
                        [
                          0.5555555555555556,
                          "#d8576b"
                        ],
                        [
                          0.6666666666666666,
                          "#ed7953"
                        ],
                        [
                          0.7777777777777778,
                          "#fb9f3a"
                        ],
                        [
                          0.8888888888888888,
                          "#fdca26"
                        ],
                        [
                          1,
                          "#f0f921"
                        ]
                      ]
                    },
                    "colorway": [
                      "#636efa",
                      "#EF553B",
                      "#00cc96",
                      "#ab63fa",
                      "#FFA15A",
                      "#19d3f3",
                      "#FF6692",
                      "#B6E880",
                      "#FF97FF",
                      "#FECB52"
                    ],
                    "font": {
                      "color": "#2a3f5f"
                    },
                    "geo": {
                      "bgcolor": "white",
                      "lakecolor": "white",
                      "landcolor": "#E5ECF6",
                      "showlakes": true,
                      "showland": true,
                      "subunitcolor": "white"
                    },
                    "hoverlabel": {
                      "align": "left"
                    },
                    "hovermode": "closest",
                    "mapbox": {
                      "style": "light"
                    },
                    "paper_bgcolor": "white",
                    "plot_bgcolor": "#E5ECF6",
                    "polar": {
                      "angularaxis": {
                        "gridcolor": "white",
                        "linecolor": "white",
                        "ticks": ""
                      },
                      "bgcolor": "#E5ECF6",
                      "radialaxis": {
                        "gridcolor": "white",
                        "linecolor": "white",
                        "ticks": ""
                      }
                    },
                    "scene": {
                      "xaxis": {
                        "backgroundcolor": "#E5ECF6",
                        "gridcolor": "white",
                        "gridwidth": 2,
                        "linecolor": "white",
                        "showbackground": true,
                        "ticks": "",
                        "zerolinecolor": "white"
                      },
                      "yaxis": {
                        "backgroundcolor": "#E5ECF6",
                        "gridcolor": "white",
                        "gridwidth": 2,
                        "linecolor": "white",
                        "showbackground": true,
                        "ticks": "",
                        "zerolinecolor": "white"
                      },
                      "zaxis": {
                        "backgroundcolor": "#E5ECF6",
                        "gridcolor": "white",
                        "gridwidth": 2,
                        "linecolor": "white",
                        "showbackground": true,
                        "ticks": "",
                        "zerolinecolor": "white"
                      }
                    },
                    "shapedefaults": {
                      "line": {
                        "color": "#2a3f5f"
                      }
                    },
                    "ternary": {
                      "aaxis": {
                        "gridcolor": "white",
                        "linecolor": "white",
                        "ticks": ""
                      },
                      "baxis": {
                        "gridcolor": "white",
                        "linecolor": "white",
                        "ticks": ""
                      },
                      "bgcolor": "#E5ECF6",
                      "caxis": {
                        "gridcolor": "white",
                        "linecolor": "white",
                        "ticks": ""
                      }
                    },
                    "title": {
                      "x": 0.05
                    },
                    "xaxis": {
                      "automargin": true,
                      "gridcolor": "white",
                      "linecolor": "white",
                      "ticks": "",
                      "title": {
                        "standoff": 15
                      },
                      "zerolinecolor": "white",
                      "zerolinewidth": 2
                    },
                    "yaxis": {
                      "automargin": true,
                      "gridcolor": "white",
                      "linecolor": "white",
                      "ticks": "",
                      "title": {
                        "standoff": 15
                      },
                      "zerolinecolor": "white",
                      "zerolinewidth": 2
                    }
                  }
                },
                "title": {
                  "text": "Posicionamento dos jogadores em campo por Time de acordo com a distância chebyshev"
                }
              }
            }
          },
          "metadata": {},
          "output_type": "display_data"
        }
      ],
      "source": [
        "# visualizando os dados\n",
        "\n",
        "# Create the figure\n",
        "fig = go.Figure()\n",
        "\n",
        "# Add the first scatter plot (blue dots) with labels for each point\n",
        "fig.add_trace(go.Scatter(\n",
        "    x=df_jogadores['Player_Position_X'],\n",
        "    y=df_jogadores['Player_Position_Y'],\n",
        "    mode='markers+text',  # Use markers and add text labels\n",
        "    name='Posição dos Jogadores',\n",
        "    marker=dict(color='blue'),\n",
        "    text=[f\"{i}\" for i in df_jogadores['Grupo_dist_cheb']],  # Labels for each point\n",
        "    textposition='top center'  # Position of the text\n",
        "))\n",
        "\n",
        "# Add the second scatter plot (red dots) with labels for each point\n",
        "fig.add_trace(go.Scatter(\n",
        "    x=df_jogadores['Center_Side_A_X'],\n",
        "    y=df_jogadores['Center_Side_A_Y'],\n",
        "    mode='markers+text',  # Use markers and add text labels\n",
        "    name='Centro A',\n",
        "    marker=dict(color='red'),\n",
        "    text=['Centro A'],  # Label for this point\n",
        "    textposition='top center'  # Position of the text\n",
        "))\n",
        "\n",
        "# Add the second scatter plot (red dots) with labels for each point\n",
        "fig.add_trace(go.Scatter(\n",
        "    x=np.array(50),\n",
        "    y=np.array(50),\n",
        "    mode='markers+text',  # Use markers and add text labels\n",
        "    name='Meio do Campo',\n",
        "    marker=dict(color='black'),\n",
        "    text=['Meio do Campo'],  # Label for this point\n",
        "    textposition='top center'  # Position of the text\n",
        "))\n",
        "\n",
        "# Add the third scatter plot (green dots) with labels for each point\n",
        "fig.add_trace(go.Scatter(\n",
        "    x=df_jogadores['Center_Side_B_X'],\n",
        "    y=df_jogadores['Center_Side_B_Y'],\n",
        "    mode='markers+text',  # Use markers and add text labels\n",
        "    name='Centro B',\n",
        "    marker=dict(color='green'),\n",
        "    text=['Centro B'],  # Label for this point\n",
        "    textposition='top center'  # Position of the text\n",
        "))\n",
        "\n",
        "# Add vertical lines at Center_Side_A_X and Center_Side_B_X\n",
        "fig.add_shape(\n",
        "    go.layout.Shape(\n",
        "        type=\"line\",  # Type of shape is a line\n",
        "        x0=df_jogadores['Center_Side_A_X'][0],  # X position for Center A\n",
        "        y0=0,  # Starting y position\n",
        "        x1=df_jogadores['Center_Side_A_X'][0],  # Same x position for the vertical line\n",
        "        y1=max(df_jogadores['Player_Position_Y']),  # Ending y position\n",
        "        line=dict(color=\"red\", dash=\"dash\")  # Line color and style\n",
        "    )\n",
        ")\n",
        "\n",
        "fig.add_shape(\n",
        "    go.layout.Shape(\n",
        "        type=\"line\",  # Type of shape is a line\n",
        "        x0=df_jogadores['Center_Side_B_X'][0],  # X position for Center B\n",
        "        y0=0,  # Starting y position\n",
        "        x1=df_jogadores['Center_Side_B_X'][0],  # Same x position for the vertical line\n",
        "        y1=max(df_jogadores['Player_Position_Y']),  # Ending y position\n",
        "        line=dict(color=\"green\", dash=\"dash\")  # Line color and style\n",
        "    )\n",
        ")\n",
        "\n",
        "fig.add_shape(\n",
        "    go.layout.Shape(\n",
        "        type=\"line\",  # Type of shape is a line\n",
        "        x0=50,  # X position for Center B\n",
        "        y0=0,  # Starting y position\n",
        "        x1=50,  # Same x position for the vertical line\n",
        "        y1=100,  # Ending y position\n",
        "        line=dict(color=\"black\", dash=\"dash\")  # Line color and style\n",
        "    )\n",
        ")\n",
        "\n",
        "\n",
        "\n",
        "# Add title to the plot\n",
        "fig.update_layout(title=\"Posicionamento dos jogadores em campo por Time de acordo com a distância chebyshev\")\n",
        "\n",
        "# Remove background color (make transparent)\n",
        "fig.update_layout(\n",
        "    plot_bgcolor='rgba(0, 0, 0, 0)',  # Transparent background for the plot area\n",
        "    paper_bgcolor='rgba(0, 0, 0, 0)'  # Transparent background for the whole figure\n",
        ")\n",
        "\n",
        "# Show the figure\n",
        "fig.show()\n"
      ]
    },
    {
      "cell_type": "markdown",
      "metadata": {
        "id": "zvkiApcHC0Ae"
      },
      "source": [
        "# Interpretações dos resultados"
      ]
    },
    {
      "cell_type": "markdown",
      "metadata": {
        "id": "vM8PLvWdC2Ew"
      },
      "source": [
        "Para os grupos que são formados pela métrica da distância:\n",
        "\n",
        "1 - Ao aplicar as métricas de distância euclidiana e manhattan obtivemos o mesmo resultado do agrupamento.\n",
        "\n",
        "2 - Ao aplicar a métrica de distância chebyshev tivemos uma diferença de dois casos ( Jogador 2 e Jogador 10 ) por estarem mais distantes do **centro A**. Isto pode ter ocorrido pois esta métrica utiliza o maior valor da diferença encontrada entre os vetores.\n",
        "   \n",
        "   **De acordo com o chatgpt:**\n",
        "\n",
        "  A distância de Chebyshev pode ser igual entre dois pontos distintos quando as diferenças nas coordenadas x e y forem iguais. Isso é esperado, pois a distância de Chebyshev calcula a maior diferença absoluta entre as coordenadas dos pontos.\n"
      ]
    },
    {
      "cell_type": "code",
      "execution_count": 29,
      "metadata": {
        "colab": {
          "base_uri": "https://localhost:8080/",
          "height": 150
        },
        "id": "FR_6gcI2CJep",
        "outputId": "dc873ca9-1154-4aca-844f-d78ffb698382"
      },
      "outputs": [
        {
          "data": {
            "text/html": [
              "<div>\n",
              "<style scoped>\n",
              "    .dataframe tbody tr th:only-of-type {\n",
              "        vertical-align: middle;\n",
              "    }\n",
              "\n",
              "    .dataframe tbody tr th {\n",
              "        vertical-align: top;\n",
              "    }\n",
              "\n",
              "    .dataframe thead th {\n",
              "        text-align: right;\n",
              "    }\n",
              "</style>\n",
              "<table border=\"1\" class=\"dataframe\">\n",
              "  <thead>\n",
              "    <tr style=\"text-align: right;\">\n",
              "      <th></th>\n",
              "      <th>Unnamed: 0</th>\n",
              "      <th>Player_Position_X</th>\n",
              "      <th>Player_Position_Y</th>\n",
              "      <th>Center_Side_A_X</th>\n",
              "      <th>Center_Side_A_Y</th>\n",
              "      <th>Center_Side_B_X</th>\n",
              "      <th>Center_Side_B_Y</th>\n",
              "      <th>Label_Jogador</th>\n",
              "      <th>Distancia_euclidiana_ca</th>\n",
              "      <th>Distancia_euclidiana_cb</th>\n",
              "      <th>Grupo_dist_euclidiana</th>\n",
              "      <th>Distancia_manhattan_ca</th>\n",
              "      <th>Distancia_manhattan_cb</th>\n",
              "      <th>Grupo_dist_manhattan</th>\n",
              "      <th>Distancia_cheb_ca</th>\n",
              "      <th>Distancia_cheb_cb</th>\n",
              "      <th>Grupo_dist_cheb</th>\n",
              "    </tr>\n",
              "  </thead>\n",
              "  <tbody>\n",
              "    <tr>\n",
              "      <th>1</th>\n",
              "      <td>1</td>\n",
              "      <td>48.687401</td>\n",
              "      <td>80.312717</td>\n",
              "      <td>25.0</td>\n",
              "      <td>50.0</td>\n",
              "      <td>75</td>\n",
              "      <td>50</td>\n",
              "      <td>Jogador 2</td>\n",
              "      <td>38.470167</td>\n",
              "      <td>40.139927</td>\n",
              "      <td>Time A</td>\n",
              "      <td>54.000118</td>\n",
              "      <td>56.625317</td>\n",
              "      <td>Time A</td>\n",
              "      <td>30.312717</td>\n",
              "      <td>30.312717</td>\n",
              "      <td>Time B</td>\n",
              "    </tr>\n",
              "    <tr>\n",
              "      <th>9</th>\n",
              "      <td>9</td>\n",
              "      <td>37.347460</td>\n",
              "      <td>2.736767</td>\n",
              "      <td>25.0</td>\n",
              "      <td>50.0</td>\n",
              "      <td>75</td>\n",
              "      <td>50</td>\n",
              "      <td>Jogador 10</td>\n",
              "      <td>48.849492</td>\n",
              "      <td>60.427865</td>\n",
              "      <td>Time A</td>\n",
              "      <td>59.610692</td>\n",
              "      <td>84.915773</td>\n",
              "      <td>Time A</td>\n",
              "      <td>47.263233</td>\n",
              "      <td>47.263233</td>\n",
              "      <td>Time B</td>\n",
              "    </tr>\n",
              "  </tbody>\n",
              "</table>\n",
              "</div>"
            ],
            "text/plain": [
              "   Unnamed: 0  Player_Position_X  Player_Position_Y  Center_Side_A_X  \\\n",
              "1           1          48.687401          80.312717             25.0   \n",
              "9           9          37.347460           2.736767             25.0   \n",
              "\n",
              "   Center_Side_A_Y  Center_Side_B_X  Center_Side_B_Y Label_Jogador  \\\n",
              "1             50.0               75               50     Jogador 2   \n",
              "9             50.0               75               50    Jogador 10   \n",
              "\n",
              "   Distancia_euclidiana_ca  Distancia_euclidiana_cb Grupo_dist_euclidiana  \\\n",
              "1                38.470167                40.139927                Time A   \n",
              "9                48.849492                60.427865                Time A   \n",
              "\n",
              "   Distancia_manhattan_ca  Distancia_manhattan_cb Grupo_dist_manhattan  \\\n",
              "1               54.000118               56.625317               Time A   \n",
              "9               59.610692               84.915773               Time A   \n",
              "\n",
              "   Distancia_cheb_ca  Distancia_cheb_cb Grupo_dist_cheb  \n",
              "1          30.312717          30.312717          Time B  \n",
              "9          47.263233          47.263233          Time B  "
            ]
          },
          "execution_count": 29,
          "metadata": {},
          "output_type": "execute_result"
        }
      ],
      "source": [
        "df_jogadores[(df_jogadores['Label_Jogador'] == \"Jogador 2\") | (df_jogadores['Label_Jogador'] == \"Jogador 10\")]"
      ]
    },
    {
      "cell_type": "code",
      "execution_count": 30,
      "metadata": {
        "colab": {
          "base_uri": "https://localhost:8080/"
        },
        "id": "m-pbrLtDIRHs",
        "outputId": "380e88ab-bad4-4aac-aec2-7a20f45f2569"
      },
      "outputs": [
        {
          "name": "stdout",
          "output_type": "stream",
          "text": [
            "Cálculo manual de chebyshev para o centro A e jogador 2 -> 30.312717207402557\n",
            "Cálculo manual de chebyshev para o centro B e jogador 2 -> 30.312717207402557\n"
          ]
        }
      ],
      "source": [
        "def chebyshev_distance(point1, point2):\n",
        "    return np.max(np.abs(np.array(point1) - np.array(point2)))\n",
        "\n",
        "print(f\"Cálculo manual de chebyshev para o centro A e jogador 2 -> {chebyshev_distance(pos_players[1],pos_center[0])}\")\n",
        "print(f\"Cálculo manual de chebyshev para o centro B e jogador 2 -> {chebyshev_distance(pos_players[1],pos_center[1])}\")"
      ]
    },
    {
      "cell_type": "code",
      "execution_count": 31,
      "metadata": {
        "colab": {
          "base_uri": "https://localhost:8080/"
        },
        "id": "wExPT_rBI6pX",
        "outputId": "f176c4f9-f1fe-4d6b-ccc7-625f495c8f92"
      },
      "outputs": [
        {
          "name": "stdout",
          "output_type": "stream",
          "text": [
            "Centro A -> [23.68740067 30.31271721]\n",
            "Centro B -> [26.31259933 30.31271721]\n"
          ]
        }
      ],
      "source": [
        "# calculo da diferença entre os dois pontos\n",
        "print(f\"Centro A -> {np.abs(np.array(pos_players[1]) - np.array(pos_center[0]))}\") # centro A\n",
        "\n",
        "print(f\"Centro B -> {np.abs(np.array(pos_players[1]) - np.array(pos_center[1]))}\") # centro B"
      ]
    },
    {
      "cell_type": "markdown",
      "metadata": {
        "id": "OKuM9E86K4yX"
      },
      "source": [
        "Como sabemos que a distância de chebyshev seleciona a maior diferença absoluta, para os dois cálculos acima são encontrados o mesmo valor máximo. Este é o motivo deles estarem iguais e, consequentemente, terem sido agrupados de forma não esperada"
      ]
    }
  ],
  "metadata": {
    "colab": {
      "provenance": [],
      "toc_visible": true
    },
    "kernelspec": {
      "display_name": "env",
      "language": "python",
      "name": "python3"
    },
    "language_info": {
      "codemirror_mode": {
        "name": "ipython",
        "version": 3
      },
      "file_extension": ".py",
      "mimetype": "text/x-python",
      "name": "python",
      "nbconvert_exporter": "python",
      "pygments_lexer": "ipython3",
      "version": "3.12.5"
    }
  },
  "nbformat": 4,
  "nbformat_minor": 0
}
